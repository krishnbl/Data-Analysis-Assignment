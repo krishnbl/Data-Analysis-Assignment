{
 "cells": [
  {
   "cell_type": "code",
   "execution_count": 1,
   "metadata": {
    "id": "oLc3XOgIqrlF"
   },
   "outputs": [],
   "source": [
    "import pandas as pd\n",
    "from colorama import Fore, Back, Style, init\n",
    "import matplotlib.pyplot as plt\n",
    "import seaborn as sns\n",
    "import numpy as np\n",
    "\n"
   ]
  },
  {
   "cell_type": "code",
   "execution_count": 2,
   "metadata": {
    "colab": {
     "base_uri": "https://localhost:8080/",
     "height": 223
    },
    "id": "srqHfHMRrwMM",
    "outputId": "9a7cfdda-6739-49e8-92ba-62c392ad74fd"
   },
   "outputs": [
    {
     "name": "stdout",
     "output_type": "stream",
     "text": [
      "\u001b[34mSentiment Data:\u001b[0m\n"
     ]
    },
    {
     "data": {
      "text/html": [
       "<div>\n",
       "<style scoped>\n",
       "    .dataframe tbody tr th:only-of-type {\n",
       "        vertical-align: middle;\n",
       "    }\n",
       "\n",
       "    .dataframe tbody tr th {\n",
       "        vertical-align: top;\n",
       "    }\n",
       "\n",
       "    .dataframe thead th {\n",
       "        text-align: right;\n",
       "    }\n",
       "</style>\n",
       "<table border=\"1\" class=\"dataframe\">\n",
       "  <thead>\n",
       "    <tr style=\"text-align: right;\">\n",
       "      <th></th>\n",
       "      <th>timestamp</th>\n",
       "      <th>value</th>\n",
       "      <th>classification</th>\n",
       "      <th>date</th>\n",
       "    </tr>\n",
       "  </thead>\n",
       "  <tbody>\n",
       "    <tr>\n",
       "      <th>0</th>\n",
       "      <td>1517463000</td>\n",
       "      <td>30</td>\n",
       "      <td>Fear</td>\n",
       "      <td>2018-02-01</td>\n",
       "    </tr>\n",
       "    <tr>\n",
       "      <th>1</th>\n",
       "      <td>1517549400</td>\n",
       "      <td>15</td>\n",
       "      <td>Extreme Fear</td>\n",
       "      <td>2018-02-02</td>\n",
       "    </tr>\n",
       "    <tr>\n",
       "      <th>2</th>\n",
       "      <td>1517635800</td>\n",
       "      <td>40</td>\n",
       "      <td>Fear</td>\n",
       "      <td>2018-02-03</td>\n",
       "    </tr>\n",
       "    <tr>\n",
       "      <th>3</th>\n",
       "      <td>1517722200</td>\n",
       "      <td>24</td>\n",
       "      <td>Extreme Fear</td>\n",
       "      <td>2018-02-04</td>\n",
       "    </tr>\n",
       "    <tr>\n",
       "      <th>4</th>\n",
       "      <td>1517808600</td>\n",
       "      <td>11</td>\n",
       "      <td>Extreme Fear</td>\n",
       "      <td>2018-02-05</td>\n",
       "    </tr>\n",
       "  </tbody>\n",
       "</table>\n",
       "</div>"
      ],
      "text/plain": [
       "    timestamp  value classification        date\n",
       "0  1517463000     30           Fear  2018-02-01\n",
       "1  1517549400     15   Extreme Fear  2018-02-02\n",
       "2  1517635800     40           Fear  2018-02-03\n",
       "3  1517722200     24   Extreme Fear  2018-02-04\n",
       "4  1517808600     11   Extreme Fear  2018-02-05"
      ]
     },
     "execution_count": 2,
     "metadata": {},
     "output_type": "execute_result"
    }
   ],
   "source": [
    "f1=pd.read_csv('fear_greed_index.csv')\n",
    "print(Fore.BLUE +'Sentiment Data:'+ Style.RESET_ALL)\n",
    "f1.head()"
   ]
  },
  {
   "cell_type": "code",
   "execution_count": 3,
   "metadata": {
    "colab": {
     "base_uri": "https://localhost:8080/"
    },
    "id": "fr81jheXsqQF",
    "outputId": "c20b71a8-a47d-441b-a8f0-95276ca40a07"
   },
   "outputs": [
    {
     "name": "stdout",
     "output_type": "stream",
     "text": [
      "\u001b[34msummary of the dataframe\u001b[0m\n",
      "<class 'pandas.core.frame.DataFrame'>\n",
      "RangeIndex: 2644 entries, 0 to 2643\n",
      "Data columns (total 4 columns):\n",
      " #   Column          Non-Null Count  Dtype \n",
      "---  ------          --------------  ----- \n",
      " 0   timestamp       2644 non-null   int64 \n",
      " 1   value           2644 non-null   int64 \n",
      " 2   classification  2644 non-null   object\n",
      " 3   date            2644 non-null   object\n",
      "dtypes: int64(2), object(2)\n",
      "memory usage: 82.8+ KB\n"
     ]
    }
   ],
   "source": [
    "print(Fore.BLUE+\"summary of the dataframe\"+ Style.RESET_ALL)\n",
    "f1.info()"
   ]
  },
  {
   "cell_type": "code",
   "execution_count": 4,
   "metadata": {
    "colab": {
     "base_uri": "https://localhost:8080/",
     "height": 411
    },
    "id": "uQwwcDLztTGa",
    "outputId": "fb7d9900-5340-4d5e-ba29-fdeac8e469c9"
   },
   "outputs": [
    {
     "name": "stdout",
     "output_type": "stream",
     "text": [
      "\u001b[34mDescriptive statistic\u001b[22m\n"
     ]
    },
    {
     "data": {
      "text/html": [
       "<div>\n",
       "<style scoped>\n",
       "    .dataframe tbody tr th:only-of-type {\n",
       "        vertical-align: middle;\n",
       "    }\n",
       "\n",
       "    .dataframe tbody tr th {\n",
       "        vertical-align: top;\n",
       "    }\n",
       "\n",
       "    .dataframe thead th {\n",
       "        text-align: right;\n",
       "    }\n",
       "</style>\n",
       "<table border=\"1\" class=\"dataframe\">\n",
       "  <thead>\n",
       "    <tr style=\"text-align: right;\">\n",
       "      <th></th>\n",
       "      <th>timestamp</th>\n",
       "      <th>value</th>\n",
       "      <th>classification</th>\n",
       "      <th>date</th>\n",
       "    </tr>\n",
       "  </thead>\n",
       "  <tbody>\n",
       "    <tr>\n",
       "      <th>count</th>\n",
       "      <td>2.644000e+03</td>\n",
       "      <td>2644.000000</td>\n",
       "      <td>2644</td>\n",
       "      <td>2644</td>\n",
       "    </tr>\n",
       "    <tr>\n",
       "      <th>unique</th>\n",
       "      <td>NaN</td>\n",
       "      <td>NaN</td>\n",
       "      <td>5</td>\n",
       "      <td>2644</td>\n",
       "    </tr>\n",
       "    <tr>\n",
       "      <th>top</th>\n",
       "      <td>NaN</td>\n",
       "      <td>NaN</td>\n",
       "      <td>Fear</td>\n",
       "      <td>2018-02-01</td>\n",
       "    </tr>\n",
       "    <tr>\n",
       "      <th>freq</th>\n",
       "      <td>NaN</td>\n",
       "      <td>NaN</td>\n",
       "      <td>781</td>\n",
       "      <td>1</td>\n",
       "    </tr>\n",
       "    <tr>\n",
       "      <th>mean</th>\n",
       "      <td>1.631899e+09</td>\n",
       "      <td>46.981089</td>\n",
       "      <td>NaN</td>\n",
       "      <td>NaN</td>\n",
       "    </tr>\n",
       "    <tr>\n",
       "      <th>std</th>\n",
       "      <td>6.597967e+07</td>\n",
       "      <td>21.827680</td>\n",
       "      <td>NaN</td>\n",
       "      <td>NaN</td>\n",
       "    </tr>\n",
       "    <tr>\n",
       "      <th>min</th>\n",
       "      <td>1.517463e+09</td>\n",
       "      <td>5.000000</td>\n",
       "      <td>NaN</td>\n",
       "      <td>NaN</td>\n",
       "    </tr>\n",
       "    <tr>\n",
       "      <th>25%</th>\n",
       "      <td>1.574811e+09</td>\n",
       "      <td>28.000000</td>\n",
       "      <td>NaN</td>\n",
       "      <td>NaN</td>\n",
       "    </tr>\n",
       "    <tr>\n",
       "      <th>50%</th>\n",
       "      <td>1.631900e+09</td>\n",
       "      <td>46.000000</td>\n",
       "      <td>NaN</td>\n",
       "      <td>NaN</td>\n",
       "    </tr>\n",
       "    <tr>\n",
       "      <th>75%</th>\n",
       "      <td>1.688989e+09</td>\n",
       "      <td>66.000000</td>\n",
       "      <td>NaN</td>\n",
       "      <td>NaN</td>\n",
       "    </tr>\n",
       "    <tr>\n",
       "      <th>max</th>\n",
       "      <td>1.746164e+09</td>\n",
       "      <td>95.000000</td>\n",
       "      <td>NaN</td>\n",
       "      <td>NaN</td>\n",
       "    </tr>\n",
       "  </tbody>\n",
       "</table>\n",
       "</div>"
      ],
      "text/plain": [
       "           timestamp        value classification        date\n",
       "count   2.644000e+03  2644.000000           2644        2644\n",
       "unique           NaN          NaN              5        2644\n",
       "top              NaN          NaN           Fear  2018-02-01\n",
       "freq             NaN          NaN            781           1\n",
       "mean    1.631899e+09    46.981089            NaN         NaN\n",
       "std     6.597967e+07    21.827680            NaN         NaN\n",
       "min     1.517463e+09     5.000000            NaN         NaN\n",
       "25%     1.574811e+09    28.000000            NaN         NaN\n",
       "50%     1.631900e+09    46.000000            NaN         NaN\n",
       "75%     1.688989e+09    66.000000            NaN         NaN\n",
       "max     1.746164e+09    95.000000            NaN         NaN"
      ]
     },
     "execution_count": 4,
     "metadata": {},
     "output_type": "execute_result"
    }
   ],
   "source": [
    "print(Fore.BLUE+\"Descriptive statistic\"+ Style.NORMAL)\n",
    "f1.describe(include='all')"
   ]
  },
  {
   "cell_type": "code",
   "execution_count": 5,
   "metadata": {
    "colab": {
     "base_uri": "https://localhost:8080/",
     "height": 227
    },
    "id": "EeaHRy3Ux0Ml",
    "outputId": "f4d1f80a-f6d4-4409-f955-633be89aae82"
   },
   "outputs": [
    {
     "name": "stdout",
     "output_type": "stream",
     "text": [
      "\u001b[34mMissing Values in Each Columns\u001b[0m\n"
     ]
    },
    {
     "data": {
      "text/plain": [
       "timestamp         0\n",
       "value             0\n",
       "classification    0\n",
       "date              0\n",
       "dtype: int64"
      ]
     },
     "execution_count": 5,
     "metadata": {},
     "output_type": "execute_result"
    }
   ],
   "source": [
    "print(Fore.BLUE +\"Missing Values in Each Columns\"+ Style.RESET_ALL)\n",
    "f1.isnull().sum()"
   ]
  },
  {
   "cell_type": "code",
   "execution_count": 6,
   "metadata": {
    "colab": {
     "base_uri": "https://localhost:8080/"
    },
    "id": "6x4NcueKy1-B",
    "outputId": "de3a3068-fa52-4a30-c20e-0f2493fa3a60"
   },
   "outputs": [
    {
     "name": "stdout",
     "output_type": "stream",
     "text": [
      "\u001b[34mDuplicate Values in Each Columns\u001b[0m\n"
     ]
    },
    {
     "data": {
      "text/plain": [
       "0"
      ]
     },
     "execution_count": 6,
     "metadata": {},
     "output_type": "execute_result"
    }
   ],
   "source": [
    "print(Fore.BLUE +\"Duplicate Values in Each Columns\"+ Style.RESET_ALL)\n",
    "f1.duplicated().sum()"
   ]
  },
  {
   "cell_type": "code",
   "execution_count": 7,
   "metadata": {
    "id": "UF_DOW4wy7si"
   },
   "outputs": [],
   "source": [
    "# Convert The 'Date' Column to datetime Objects\n",
    "f1['date'] = pd.to_datetime(f1['date'])"
   ]
  },
  {
   "cell_type": "code",
   "execution_count": 8,
   "metadata": {
    "colab": {
     "base_uri": "https://localhost:8080/",
     "height": 324
    },
    "id": "oDd8IRiVy99b",
    "outputId": "1225a89d-722d-467b-fc62-50bdcf653307"
   },
   "outputs": [
    {
     "name": "stdout",
     "output_type": "stream",
     "text": [
      "\u001b[34mUnique Values in Classification Columns\u001b[0m\n",
      "['Fear', 'Extreme Fear', 'Neutral', 'Greed', 'Extreme Greed']\n",
      "\u001b[34m Values counts in Classification Columns\u001b[0m\n"
     ]
    },
    {
     "data": {
      "text/plain": [
       "classification\n",
       "Fear             781\n",
       "Greed            633\n",
       "Extreme Fear     508\n",
       "Neutral          396\n",
       "Extreme Greed    326\n",
       "Name: count, dtype: int64"
      ]
     },
     "execution_count": 8,
     "metadata": {},
     "output_type": "execute_result"
    }
   ],
   "source": [
    "print(Fore.BLUE +\"Unique Values in Classification Columns\"+ Style.RESET_ALL)\n",
    "print(f1['classification'].unique().tolist())\n",
    "print(Fore.BLUE +\" Values counts in Classification Columns\"+ Style.RESET_ALL)\n",
    "f1['classification'].value_counts()"
   ]
  },
  {
   "cell_type": "code",
   "execution_count": 9,
   "metadata": {
    "colab": {
     "base_uri": "https://localhost:8080/"
    },
    "id": "ZDMoDLYBz-Td",
    "outputId": "b7524fb9-183d-4047-86f5-7680149234fd"
   },
   "outputs": [
    {
     "data": {
      "text/plain": [
       "Timestamp('2018-02-01 00:00:00')"
      ]
     },
     "execution_count": 9,
     "metadata": {},
     "output_type": "execute_result"
    }
   ],
   "source": [
    "f1['date'].min()"
   ]
  },
  {
   "cell_type": "markdown",
   "metadata": {
    "id": "yIAXmE6L2TcL"
   },
   "source": []
  },
  {
   "cell_type": "code",
   "execution_count": 10,
   "metadata": {
    "colab": {
     "base_uri": "https://localhost:8080/",
     "height": 255
    },
    "id": "zFVHkYmp1569",
    "outputId": "9bcc95ed-af1f-4357-af40-ed86032e8adb"
   },
   "outputs": [
    {
     "data": {
      "text/html": [
       "<div>\n",
       "<style scoped>\n",
       "    .dataframe tbody tr th:only-of-type {\n",
       "        vertical-align: middle;\n",
       "    }\n",
       "\n",
       "    .dataframe tbody tr th {\n",
       "        vertical-align: top;\n",
       "    }\n",
       "\n",
       "    .dataframe thead th {\n",
       "        text-align: right;\n",
       "    }\n",
       "</style>\n",
       "<table border=\"1\" class=\"dataframe\">\n",
       "  <thead>\n",
       "    <tr style=\"text-align: right;\">\n",
       "      <th></th>\n",
       "      <th>timestamp</th>\n",
       "      <th>value</th>\n",
       "      <th>classification</th>\n",
       "      <th>date</th>\n",
       "    </tr>\n",
       "  </thead>\n",
       "  <tbody>\n",
       "    <tr>\n",
       "      <th>0</th>\n",
       "      <td>1517463000</td>\n",
       "      <td>30</td>\n",
       "      <td>Fear</td>\n",
       "      <td>2018-02-01</td>\n",
       "    </tr>\n",
       "    <tr>\n",
       "      <th>1</th>\n",
       "      <td>1517549400</td>\n",
       "      <td>15</td>\n",
       "      <td>Extreme Fear</td>\n",
       "      <td>2018-02-02</td>\n",
       "    </tr>\n",
       "    <tr>\n",
       "      <th>2</th>\n",
       "      <td>1517635800</td>\n",
       "      <td>40</td>\n",
       "      <td>Fear</td>\n",
       "      <td>2018-02-03</td>\n",
       "    </tr>\n",
       "    <tr>\n",
       "      <th>3</th>\n",
       "      <td>1517722200</td>\n",
       "      <td>24</td>\n",
       "      <td>Extreme Fear</td>\n",
       "      <td>2018-02-04</td>\n",
       "    </tr>\n",
       "    <tr>\n",
       "      <th>4</th>\n",
       "      <td>1517808600</td>\n",
       "      <td>11</td>\n",
       "      <td>Extreme Fear</td>\n",
       "      <td>2018-02-05</td>\n",
       "    </tr>\n",
       "  </tbody>\n",
       "</table>\n",
       "</div>"
      ],
      "text/plain": [
       "    timestamp  value classification       date\n",
       "0  1517463000     30           Fear 2018-02-01\n",
       "1  1517549400     15   Extreme Fear 2018-02-02\n",
       "2  1517635800     40           Fear 2018-02-03\n",
       "3  1517722200     24   Extreme Fear 2018-02-04\n",
       "4  1517808600     11   Extreme Fear 2018-02-05"
      ]
     },
     "execution_count": 10,
     "metadata": {},
     "output_type": "execute_result"
    }
   ],
   "source": [
    "if 'date' in f1.index.names:\n",
    "    f1.reset_index(inplace=True)\n",
    "f1.head()"
   ]
  },
  {
   "cell_type": "markdown",
   "metadata": {
    "id": "mLclcs0t3BFm"
   },
   "source": [
    "Interpretation of Sentiment Data Loading and Preprocessing:\n",
    "\n",
    "The Bitcoin Market Sentiment data was loaded successfully, containing 2644 entries and 4 initial columns: timestamp, value, classification, and date.\n",
    "\n",
    "*Initial State: The date column was initially an object (string) type, and classification was also an object type, while timestamp and value (the numerical sentiment score ranging from 0-100) were integers.\n",
    "* Missing Values: No missing values were found in any of the columns, simplifying the cleaning process.\n",
    "\n",
    "\n",
    "*  Date Conversion: The date column (e.g., '2018-02-01') was successfully converted to the datetime64[ns] data type.\n",
    "*   Sentiment Classifications: The classification column contains 5 unique sentiment states: 'Fear', 'Extreme Fear', 'Neutral', 'Greed', and 'Extreme Greed'. \"Fear\" was the most frequent classification.\n",
    "\n",
    "*  Indexing: The date column was subsequently set as the index of the sentiment_df DataFrame.\n",
    "*  The sentiment data spans from 2018-02-01 to 2025-05-02 (derived from min/max of the index after processing, or from later merge step).\n",
    "\n",
    "The sentiment_df DataFrame is now cleaned and prepared for merging with the trader data. The key columns for our analysis will be the index (date), value, and classification.\n",
    "\n",
    "\n",
    "\n"
   ]
  },
  {
   "cell_type": "code",
   "execution_count": 11,
   "metadata": {
    "colab": {
     "base_uri": "https://localhost:8080/",
     "height": 469
    },
    "id": "NH5hPGeW3ZM5",
    "outputId": "deefb331-8ffe-4438-a346-394fcec616e6"
   },
   "outputs": [
    {
     "name": "stdout",
     "output_type": "stream",
     "text": [
      "\u001b[34mTrader Data:\u001b[0m\n"
     ]
    },
    {
     "data": {
      "text/html": [
       "<div>\n",
       "<style scoped>\n",
       "    .dataframe tbody tr th:only-of-type {\n",
       "        vertical-align: middle;\n",
       "    }\n",
       "\n",
       "    .dataframe tbody tr th {\n",
       "        vertical-align: top;\n",
       "    }\n",
       "\n",
       "    .dataframe thead th {\n",
       "        text-align: right;\n",
       "    }\n",
       "</style>\n",
       "<table border=\"1\" class=\"dataframe\">\n",
       "  <thead>\n",
       "    <tr style=\"text-align: right;\">\n",
       "      <th></th>\n",
       "      <th>Account</th>\n",
       "      <th>Coin</th>\n",
       "      <th>Execution Price</th>\n",
       "      <th>Size Tokens</th>\n",
       "      <th>Size USD</th>\n",
       "      <th>Side</th>\n",
       "      <th>Timestamp IST</th>\n",
       "      <th>Start Position</th>\n",
       "      <th>Direction</th>\n",
       "      <th>Closed PnL</th>\n",
       "      <th>Transaction Hash</th>\n",
       "      <th>Order ID</th>\n",
       "      <th>Crossed</th>\n",
       "      <th>Fee</th>\n",
       "      <th>Trade ID</th>\n",
       "      <th>Timestamp</th>\n",
       "    </tr>\n",
       "  </thead>\n",
       "  <tbody>\n",
       "    <tr>\n",
       "      <th>0</th>\n",
       "      <td>0xae5eacaf9c6b9111fd53034a602c192a04e082ed</td>\n",
       "      <td>@107</td>\n",
       "      <td>7.9769</td>\n",
       "      <td>986.87</td>\n",
       "      <td>7872.16</td>\n",
       "      <td>BUY</td>\n",
       "      <td>02-12-2024 22:50</td>\n",
       "      <td>0.000000</td>\n",
       "      <td>Buy</td>\n",
       "      <td>0.0</td>\n",
       "      <td>0xec09451986a1874e3a980418412fcd0201f500c95bac...</td>\n",
       "      <td>52017706630</td>\n",
       "      <td>True</td>\n",
       "      <td>0.345404</td>\n",
       "      <td>8.950000e+14</td>\n",
       "      <td>1.730000e+12</td>\n",
       "    </tr>\n",
       "    <tr>\n",
       "      <th>1</th>\n",
       "      <td>0xae5eacaf9c6b9111fd53034a602c192a04e082ed</td>\n",
       "      <td>@107</td>\n",
       "      <td>7.9800</td>\n",
       "      <td>16.00</td>\n",
       "      <td>127.68</td>\n",
       "      <td>BUY</td>\n",
       "      <td>02-12-2024 22:50</td>\n",
       "      <td>986.524596</td>\n",
       "      <td>Buy</td>\n",
       "      <td>0.0</td>\n",
       "      <td>0xec09451986a1874e3a980418412fcd0201f500c95bac...</td>\n",
       "      <td>52017706630</td>\n",
       "      <td>True</td>\n",
       "      <td>0.005600</td>\n",
       "      <td>4.430000e+14</td>\n",
       "      <td>1.730000e+12</td>\n",
       "    </tr>\n",
       "    <tr>\n",
       "      <th>2</th>\n",
       "      <td>0xae5eacaf9c6b9111fd53034a602c192a04e082ed</td>\n",
       "      <td>@107</td>\n",
       "      <td>7.9855</td>\n",
       "      <td>144.09</td>\n",
       "      <td>1150.63</td>\n",
       "      <td>BUY</td>\n",
       "      <td>02-12-2024 22:50</td>\n",
       "      <td>1002.518996</td>\n",
       "      <td>Buy</td>\n",
       "      <td>0.0</td>\n",
       "      <td>0xec09451986a1874e3a980418412fcd0201f500c95bac...</td>\n",
       "      <td>52017706630</td>\n",
       "      <td>True</td>\n",
       "      <td>0.050431</td>\n",
       "      <td>6.600000e+14</td>\n",
       "      <td>1.730000e+12</td>\n",
       "    </tr>\n",
       "    <tr>\n",
       "      <th>3</th>\n",
       "      <td>0xae5eacaf9c6b9111fd53034a602c192a04e082ed</td>\n",
       "      <td>@107</td>\n",
       "      <td>7.9874</td>\n",
       "      <td>142.98</td>\n",
       "      <td>1142.04</td>\n",
       "      <td>BUY</td>\n",
       "      <td>02-12-2024 22:50</td>\n",
       "      <td>1146.558564</td>\n",
       "      <td>Buy</td>\n",
       "      <td>0.0</td>\n",
       "      <td>0xec09451986a1874e3a980418412fcd0201f500c95bac...</td>\n",
       "      <td>52017706630</td>\n",
       "      <td>True</td>\n",
       "      <td>0.050043</td>\n",
       "      <td>1.080000e+15</td>\n",
       "      <td>1.730000e+12</td>\n",
       "    </tr>\n",
       "    <tr>\n",
       "      <th>4</th>\n",
       "      <td>0xae5eacaf9c6b9111fd53034a602c192a04e082ed</td>\n",
       "      <td>@107</td>\n",
       "      <td>7.9894</td>\n",
       "      <td>8.73</td>\n",
       "      <td>69.75</td>\n",
       "      <td>BUY</td>\n",
       "      <td>02-12-2024 22:50</td>\n",
       "      <td>1289.488521</td>\n",
       "      <td>Buy</td>\n",
       "      <td>0.0</td>\n",
       "      <td>0xec09451986a1874e3a980418412fcd0201f500c95bac...</td>\n",
       "      <td>52017706630</td>\n",
       "      <td>True</td>\n",
       "      <td>0.003055</td>\n",
       "      <td>1.050000e+15</td>\n",
       "      <td>1.730000e+12</td>\n",
       "    </tr>\n",
       "  </tbody>\n",
       "</table>\n",
       "</div>"
      ],
      "text/plain": [
       "                                      Account  Coin  Execution Price  \\\n",
       "0  0xae5eacaf9c6b9111fd53034a602c192a04e082ed  @107           7.9769   \n",
       "1  0xae5eacaf9c6b9111fd53034a602c192a04e082ed  @107           7.9800   \n",
       "2  0xae5eacaf9c6b9111fd53034a602c192a04e082ed  @107           7.9855   \n",
       "3  0xae5eacaf9c6b9111fd53034a602c192a04e082ed  @107           7.9874   \n",
       "4  0xae5eacaf9c6b9111fd53034a602c192a04e082ed  @107           7.9894   \n",
       "\n",
       "   Size Tokens  Size USD Side     Timestamp IST  Start Position Direction  \\\n",
       "0       986.87   7872.16  BUY  02-12-2024 22:50        0.000000       Buy   \n",
       "1        16.00    127.68  BUY  02-12-2024 22:50      986.524596       Buy   \n",
       "2       144.09   1150.63  BUY  02-12-2024 22:50     1002.518996       Buy   \n",
       "3       142.98   1142.04  BUY  02-12-2024 22:50     1146.558564       Buy   \n",
       "4         8.73     69.75  BUY  02-12-2024 22:50     1289.488521       Buy   \n",
       "\n",
       "   Closed PnL                                   Transaction Hash     Order ID  \\\n",
       "0         0.0  0xec09451986a1874e3a980418412fcd0201f500c95bac...  52017706630   \n",
       "1         0.0  0xec09451986a1874e3a980418412fcd0201f500c95bac...  52017706630   \n",
       "2         0.0  0xec09451986a1874e3a980418412fcd0201f500c95bac...  52017706630   \n",
       "3         0.0  0xec09451986a1874e3a980418412fcd0201f500c95bac...  52017706630   \n",
       "4         0.0  0xec09451986a1874e3a980418412fcd0201f500c95bac...  52017706630   \n",
       "\n",
       "   Crossed       Fee      Trade ID     Timestamp  \n",
       "0     True  0.345404  8.950000e+14  1.730000e+12  \n",
       "1     True  0.005600  4.430000e+14  1.730000e+12  \n",
       "2     True  0.050431  6.600000e+14  1.730000e+12  \n",
       "3     True  0.050043  1.080000e+15  1.730000e+12  \n",
       "4     True  0.003055  1.050000e+15  1.730000e+12  "
      ]
     },
     "execution_count": 11,
     "metadata": {},
     "output_type": "execute_result"
    }
   ],
   "source": [
    "f2=pd.read_csv('historical_data.csv')\n",
    "print(Fore.BLUE +'Trader Data:'+ Style.RESET_ALL)\n",
    "f2.head()"
   ]
  },
  {
   "cell_type": "code",
   "execution_count": 12,
   "metadata": {
    "colab": {
     "base_uri": "https://localhost:8080/"
    },
    "id": "n9_MIb-h3qws",
    "outputId": "b015fbcb-255e-4826-fa26-cde689f735f1"
   },
   "outputs": [
    {
     "name": "stdout",
     "output_type": "stream",
     "text": [
      "\u001b[34msummary of the dataframe\u001b[0m\n",
      "<class 'pandas.core.frame.DataFrame'>\n",
      "RangeIndex: 211224 entries, 0 to 211223\n",
      "Data columns (total 16 columns):\n",
      " #   Column            Non-Null Count   Dtype  \n",
      "---  ------            --------------   -----  \n",
      " 0   Account           211224 non-null  object \n",
      " 1   Coin              211224 non-null  object \n",
      " 2   Execution Price   211224 non-null  float64\n",
      " 3   Size Tokens       211224 non-null  float64\n",
      " 4   Size USD          211224 non-null  float64\n",
      " 5   Side              211224 non-null  object \n",
      " 6   Timestamp IST     211224 non-null  object \n",
      " 7   Start Position    211224 non-null  float64\n",
      " 8   Direction         211224 non-null  object \n",
      " 9   Closed PnL        211224 non-null  float64\n",
      " 10  Transaction Hash  211224 non-null  object \n",
      " 11  Order ID          211224 non-null  int64  \n",
      " 12  Crossed           211224 non-null  bool   \n",
      " 13  Fee               211224 non-null  float64\n",
      " 14  Trade ID          211224 non-null  float64\n",
      " 15  Timestamp         211224 non-null  float64\n",
      "dtypes: bool(1), float64(8), int64(1), object(6)\n",
      "memory usage: 24.4+ MB\n"
     ]
    }
   ],
   "source": [
    "print(Fore.BLUE+\"summary of the dataframe\"+ Style.RESET_ALL)\n",
    "f2.info()"
   ]
  },
  {
   "cell_type": "code",
   "execution_count": 13,
   "metadata": {
    "colab": {
     "base_uri": "https://localhost:8080/",
     "height": 317
    },
    "id": "EQ2SfdjT43PJ",
    "outputId": "ec71c7a6-e7e1-419e-8666-caca9e818599"
   },
   "outputs": [
    {
     "name": "stdout",
     "output_type": "stream",
     "text": [
      "\u001b[34mDescriptive statistic\u001b[22m\n"
     ]
    },
    {
     "data": {
      "text/html": [
       "<div>\n",
       "<style scoped>\n",
       "    .dataframe tbody tr th:only-of-type {\n",
       "        vertical-align: middle;\n",
       "    }\n",
       "\n",
       "    .dataframe tbody tr th {\n",
       "        vertical-align: top;\n",
       "    }\n",
       "\n",
       "    .dataframe thead th {\n",
       "        text-align: right;\n",
       "    }\n",
       "</style>\n",
       "<table border=\"1\" class=\"dataframe\">\n",
       "  <thead>\n",
       "    <tr style=\"text-align: right;\">\n",
       "      <th></th>\n",
       "      <th>Execution Price</th>\n",
       "      <th>Size Tokens</th>\n",
       "      <th>Size USD</th>\n",
       "      <th>Start Position</th>\n",
       "      <th>Closed PnL</th>\n",
       "      <th>Order ID</th>\n",
       "      <th>Fee</th>\n",
       "      <th>Trade ID</th>\n",
       "      <th>Timestamp</th>\n",
       "    </tr>\n",
       "  </thead>\n",
       "  <tbody>\n",
       "    <tr>\n",
       "      <th>count</th>\n",
       "      <td>211224.000000</td>\n",
       "      <td>2.112240e+05</td>\n",
       "      <td>2.112240e+05</td>\n",
       "      <td>2.112240e+05</td>\n",
       "      <td>211224.000000</td>\n",
       "      <td>2.112240e+05</td>\n",
       "      <td>211224.000000</td>\n",
       "      <td>2.112240e+05</td>\n",
       "      <td>2.112240e+05</td>\n",
       "    </tr>\n",
       "    <tr>\n",
       "      <th>mean</th>\n",
       "      <td>11414.723350</td>\n",
       "      <td>4.623365e+03</td>\n",
       "      <td>5.639451e+03</td>\n",
       "      <td>-2.994625e+04</td>\n",
       "      <td>48.749001</td>\n",
       "      <td>6.965388e+10</td>\n",
       "      <td>1.163967</td>\n",
       "      <td>5.628549e+14</td>\n",
       "      <td>1.737744e+12</td>\n",
       "    </tr>\n",
       "    <tr>\n",
       "      <th>std</th>\n",
       "      <td>29447.654868</td>\n",
       "      <td>1.042729e+05</td>\n",
       "      <td>3.657514e+04</td>\n",
       "      <td>6.738074e+05</td>\n",
       "      <td>919.164828</td>\n",
       "      <td>1.835753e+10</td>\n",
       "      <td>6.758854</td>\n",
       "      <td>3.257565e+14</td>\n",
       "      <td>8.689920e+09</td>\n",
       "    </tr>\n",
       "    <tr>\n",
       "      <th>min</th>\n",
       "      <td>0.000005</td>\n",
       "      <td>8.740000e-07</td>\n",
       "      <td>0.000000e+00</td>\n",
       "      <td>-1.433463e+07</td>\n",
       "      <td>-117990.104100</td>\n",
       "      <td>1.732711e+08</td>\n",
       "      <td>-1.175712</td>\n",
       "      <td>0.000000e+00</td>\n",
       "      <td>1.680000e+12</td>\n",
       "    </tr>\n",
       "    <tr>\n",
       "      <th>25%</th>\n",
       "      <td>4.854700</td>\n",
       "      <td>2.940000e+00</td>\n",
       "      <td>1.937900e+02</td>\n",
       "      <td>-3.762311e+02</td>\n",
       "      <td>0.000000</td>\n",
       "      <td>5.983853e+10</td>\n",
       "      <td>0.016121</td>\n",
       "      <td>2.810000e+14</td>\n",
       "      <td>1.740000e+12</td>\n",
       "    </tr>\n",
       "    <tr>\n",
       "      <th>50%</th>\n",
       "      <td>18.280000</td>\n",
       "      <td>3.200000e+01</td>\n",
       "      <td>5.970450e+02</td>\n",
       "      <td>8.472793e+01</td>\n",
       "      <td>0.000000</td>\n",
       "      <td>7.442939e+10</td>\n",
       "      <td>0.089578</td>\n",
       "      <td>5.620000e+14</td>\n",
       "      <td>1.740000e+12</td>\n",
       "    </tr>\n",
       "    <tr>\n",
       "      <th>75%</th>\n",
       "      <td>101.580000</td>\n",
       "      <td>1.879025e+02</td>\n",
       "      <td>2.058960e+03</td>\n",
       "      <td>9.337278e+03</td>\n",
       "      <td>5.792797</td>\n",
       "      <td>8.335543e+10</td>\n",
       "      <td>0.393811</td>\n",
       "      <td>8.460000e+14</td>\n",
       "      <td>1.740000e+12</td>\n",
       "    </tr>\n",
       "    <tr>\n",
       "      <th>max</th>\n",
       "      <td>109004.000000</td>\n",
       "      <td>1.582244e+07</td>\n",
       "      <td>3.921431e+06</td>\n",
       "      <td>3.050948e+07</td>\n",
       "      <td>135329.090100</td>\n",
       "      <td>9.014923e+10</td>\n",
       "      <td>837.471593</td>\n",
       "      <td>1.130000e+15</td>\n",
       "      <td>1.750000e+12</td>\n",
       "    </tr>\n",
       "  </tbody>\n",
       "</table>\n",
       "</div>"
      ],
      "text/plain": [
       "       Execution Price   Size Tokens      Size USD  Start Position  \\\n",
       "count    211224.000000  2.112240e+05  2.112240e+05    2.112240e+05   \n",
       "mean      11414.723350  4.623365e+03  5.639451e+03   -2.994625e+04   \n",
       "std       29447.654868  1.042729e+05  3.657514e+04    6.738074e+05   \n",
       "min           0.000005  8.740000e-07  0.000000e+00   -1.433463e+07   \n",
       "25%           4.854700  2.940000e+00  1.937900e+02   -3.762311e+02   \n",
       "50%          18.280000  3.200000e+01  5.970450e+02    8.472793e+01   \n",
       "75%         101.580000  1.879025e+02  2.058960e+03    9.337278e+03   \n",
       "max      109004.000000  1.582244e+07  3.921431e+06    3.050948e+07   \n",
       "\n",
       "          Closed PnL      Order ID            Fee      Trade ID     Timestamp  \n",
       "count  211224.000000  2.112240e+05  211224.000000  2.112240e+05  2.112240e+05  \n",
       "mean       48.749001  6.965388e+10       1.163967  5.628549e+14  1.737744e+12  \n",
       "std       919.164828  1.835753e+10       6.758854  3.257565e+14  8.689920e+09  \n",
       "min   -117990.104100  1.732711e+08      -1.175712  0.000000e+00  1.680000e+12  \n",
       "25%         0.000000  5.983853e+10       0.016121  2.810000e+14  1.740000e+12  \n",
       "50%         0.000000  7.442939e+10       0.089578  5.620000e+14  1.740000e+12  \n",
       "75%         5.792797  8.335543e+10       0.393811  8.460000e+14  1.740000e+12  \n",
       "max    135329.090100  9.014923e+10     837.471593  1.130000e+15  1.750000e+12  "
      ]
     },
     "execution_count": 13,
     "metadata": {},
     "output_type": "execute_result"
    }
   ],
   "source": [
    "print(Fore.BLUE+\"Descriptive statistic\"+ Style.NORMAL)\n",
    "f2.describe()"
   ]
  },
  {
   "cell_type": "code",
   "execution_count": 14,
   "metadata": {
    "colab": {
     "base_uri": "https://localhost:8080/",
     "height": 192
    },
    "id": "a3cMp8mg5Hda",
    "outputId": "d7ffb59d-ebd9-4eb7-d989-1a45d23c8eb4"
   },
   "outputs": [
    {
     "name": "stdout",
     "output_type": "stream",
     "text": [
      "\u001b[34mDescriptive statistic\u001b[22m\n"
     ]
    },
    {
     "data": {
      "text/html": [
       "<div>\n",
       "<style scoped>\n",
       "    .dataframe tbody tr th:only-of-type {\n",
       "        vertical-align: middle;\n",
       "    }\n",
       "\n",
       "    .dataframe tbody tr th {\n",
       "        vertical-align: top;\n",
       "    }\n",
       "\n",
       "    .dataframe thead th {\n",
       "        text-align: right;\n",
       "    }\n",
       "</style>\n",
       "<table border=\"1\" class=\"dataframe\">\n",
       "  <thead>\n",
       "    <tr style=\"text-align: right;\">\n",
       "      <th></th>\n",
       "      <th>Account</th>\n",
       "      <th>Coin</th>\n",
       "      <th>Side</th>\n",
       "      <th>Timestamp IST</th>\n",
       "      <th>Direction</th>\n",
       "      <th>Transaction Hash</th>\n",
       "    </tr>\n",
       "  </thead>\n",
       "  <tbody>\n",
       "    <tr>\n",
       "      <th>count</th>\n",
       "      <td>211224</td>\n",
       "      <td>211224</td>\n",
       "      <td>211224</td>\n",
       "      <td>211224</td>\n",
       "      <td>211224</td>\n",
       "      <td>211224</td>\n",
       "    </tr>\n",
       "    <tr>\n",
       "      <th>unique</th>\n",
       "      <td>32</td>\n",
       "      <td>246</td>\n",
       "      <td>2</td>\n",
       "      <td>27977</td>\n",
       "      <td>12</td>\n",
       "      <td>101184</td>\n",
       "    </tr>\n",
       "    <tr>\n",
       "      <th>top</th>\n",
       "      <td>0xbee1707d6b44d4d52bfe19e41f8a828645437aab</td>\n",
       "      <td>HYPE</td>\n",
       "      <td>SELL</td>\n",
       "      <td>14-02-2025 00:31</td>\n",
       "      <td>Open Long</td>\n",
       "      <td>0x00000000000000000000000000000000000000000000...</td>\n",
       "    </tr>\n",
       "    <tr>\n",
       "      <th>freq</th>\n",
       "      <td>40184</td>\n",
       "      <td>68005</td>\n",
       "      <td>108528</td>\n",
       "      <td>441</td>\n",
       "      <td>49895</td>\n",
       "      <td>9032</td>\n",
       "    </tr>\n",
       "  </tbody>\n",
       "</table>\n",
       "</div>"
      ],
      "text/plain": [
       "                                           Account    Coin    Side  \\\n",
       "count                                       211224  211224  211224   \n",
       "unique                                          32     246       2   \n",
       "top     0xbee1707d6b44d4d52bfe19e41f8a828645437aab    HYPE    SELL   \n",
       "freq                                         40184   68005  108528   \n",
       "\n",
       "           Timestamp IST  Direction  \\\n",
       "count             211224     211224   \n",
       "unique             27977         12   \n",
       "top     14-02-2025 00:31  Open Long   \n",
       "freq                 441      49895   \n",
       "\n",
       "                                         Transaction Hash  \n",
       "count                                              211224  \n",
       "unique                                             101184  \n",
       "top     0x00000000000000000000000000000000000000000000...  \n",
       "freq                                                 9032  "
      ]
     },
     "execution_count": 14,
     "metadata": {},
     "output_type": "execute_result"
    }
   ],
   "source": [
    "print(Fore.BLUE+\"Descriptive statistic\"+ Style.NORMAL)\n",
    "f2.describe(include=['object','category'])"
   ]
  },
  {
   "cell_type": "code",
   "execution_count": 15,
   "metadata": {
    "colab": {
     "base_uri": "https://localhost:8080/",
     "height": 603
    },
    "id": "w7_XgqVx5XRV",
    "outputId": "2bd06f7d-d431-42eb-9799-a1d44808be53"
   },
   "outputs": [
    {
     "name": "stdout",
     "output_type": "stream",
     "text": [
      "\u001b[34mMissing Values in each Columns\u001b[0m\n"
     ]
    },
    {
     "data": {
      "text/plain": [
       "Account             0\n",
       "Coin                0\n",
       "Execution Price     0\n",
       "Size Tokens         0\n",
       "Size USD            0\n",
       "Side                0\n",
       "Timestamp IST       0\n",
       "Start Position      0\n",
       "Direction           0\n",
       "Closed PnL          0\n",
       "Transaction Hash    0\n",
       "Order ID            0\n",
       "Crossed             0\n",
       "Fee                 0\n",
       "Trade ID            0\n",
       "Timestamp           0\n",
       "dtype: int64"
      ]
     },
     "execution_count": 15,
     "metadata": {},
     "output_type": "execute_result"
    }
   ],
   "source": [
    "print(Fore.BLUE+\"Missing Values in each Columns\"+ Style.RESET_ALL)\n",
    "f2.isnull().sum()"
   ]
  },
  {
   "cell_type": "code",
   "execution_count": 16,
   "metadata": {
    "colab": {
     "base_uri": "https://localhost:8080/"
    },
    "id": "Kmqs-imK5omz",
    "outputId": "6f3df829-9cbd-4dc4-9f07-ee0f358b6e68"
   },
   "outputs": [
    {
     "name": "stdout",
     "output_type": "stream",
     "text": [
      "\u001b[34mUnique values in some potential categorical columns\u001b[0m\n",
      "Column 'account' not found in f2.\n",
      "Column 'symbol' not found in f2.\n",
      "Column 'side' not found in f2.\n",
      "Column 'event' not found in f2.\n",
      "Column 'startPositionState' not found in f2.\n"
     ]
    }
   ],
   "source": [
    "potential_categorical_cols = ['account', 'symbol', 'side', 'event', 'startPositionState']\n",
    "\n",
    "\n",
    "print(Fore.BLUE +\"Unique values in some potential categorical columns\"+ Style.RESET_ALL)\n",
    "for col in potential_categorical_cols:\n",
    "    if col in f2.columns:\n",
    "        print(f\"\\n--- Unique values for '{col}' (top 5 and count) ---\")\n",
    "        # Checks if the column is entirely NaN, which can cause errors with value_counts\n",
    "        if f2[col].notna().any():\n",
    "            unique_vals = f2[col].unique()\n",
    "            print(f\"Number of unique values: {len(unique_vals)}\")\n",
    "            if len(unique_vals) > 10: # Show only first 10 if many unique values\n",
    "                print(f\"Sample unique values: {unique_vals[:10]}\")\n",
    "            else:\n",
    "                print(f\"Unique values: {unique_vals}\")\n",
    "            print(\"Value counts (top 5):\")\n",
    "            print(f2[col].value_counts().nlargest(5))\n",
    "        else:\n",
    "            print(f\"Column '{col}' contains only NaN values.\")\n",
    "    else:\n",
    "        print(f\"Column '{col}' not found in f2.\")"
   ]
  },
  {
   "cell_type": "code",
   "execution_count": 17,
   "metadata": {
    "id": "x9nyiKL1GJJU"
   },
   "outputs": [],
   "source": [
    "f2_copy=f2.copy()"
   ]
  },
  {
   "cell_type": "code",
   "execution_count": 18,
   "metadata": {
    "colab": {
     "base_uri": "https://localhost:8080/"
    },
    "id": "cEtsE5OfGNiG",
    "outputId": "3f1d440a-bd3f-4008-a03d-b8d6261da258"
   },
   "outputs": [
    {
     "name": "stdout",
     "output_type": "stream",
     "text": [
      "Original column names:\n",
      " ['Account', 'Coin', 'Execution Price', 'Size Tokens', 'Size USD', 'Side', 'Timestamp IST', 'Start Position', 'Direction', 'Closed PnL', 'Transaction Hash', 'Order ID', 'Crossed', 'Fee', 'Trade ID', 'Timestamp']\n"
     ]
    }
   ],
   "source": [
    "print(\"Original column names:\\n\", f2_copy.columns.tolist())\n"
   ]
  },
  {
   "cell_type": "code",
   "execution_count": 19,
   "metadata": {
    "colab": {
     "base_uri": "https://localhost:8080/"
    },
    "id": "sWk6ReRjGPbv",
    "outputId": "c2aba668-932f-42e9-8800-9eff2a71f59c"
   },
   "outputs": [
    {
     "name": "stdout",
     "output_type": "stream",
     "text": [
      "\n",
      "New column names:\n",
      " ['account', 'symbol', 'execution_price', 'size_tokens', 'size_usd', 'side', 'time_ist', 'start_position_tokens', 'event_type', 'closed_pnl', 'tx_hash', 'order_id', 'crossed_maker_taker', 'fee', 'trade_id', 'timestamp_unix']\n"
     ]
    }
   ],
   "source": [
    "column_rename_map = {\n",
    "    'Account': 'account',\n",
    "    'Coin': 'symbol',\n",
    "    'Execution Price': 'execution_price',\n",
    "    'Size Tokens': 'size_tokens',\n",
    "    'Size USD': 'size_usd',\n",
    "    'Side': 'side',\n",
    "    'Timestamp IST': 'time_ist',\n",
    "    'Start Position': 'start_position_tokens',\n",
    "    'Direction': 'event_type',\n",
    "    'Closed PnL': 'closed_pnl',\n",
    "    'Transaction Hash': 'tx_hash',\n",
    "    'Order ID': 'order_id',\n",
    "    'Crossed': 'crossed_maker_taker',\n",
    "    'Fee': 'fee',\n",
    "    'Trade ID': 'trade_id',\n",
    "    'Timestamp': 'timestamp_unix'\n",
    "}\n",
    "f2_copy.rename(columns=column_rename_map, inplace=True)\n",
    "print(\"\\nNew column names:\\n\", f2_copy.columns.tolist())\n",
    "\n"
   ]
  },
  {
   "cell_type": "code",
   "execution_count": 20,
   "metadata": {
    "colab": {
     "base_uri": "https://localhost:8080/"
    },
    "id": "R2ZxB-VrHcpC",
    "outputId": "3f95dd85-fc5a-4414-8211-3f42f0fce986"
   },
   "outputs": [
    {
     "name": "stdout",
     "output_type": "stream",
     "text": [
      "\n",
      "Converting 'timestamp_unix' to datetime...\n",
      "Successfully converted 'timestamp_unix' to 'time' (datetime64[ns]).\n",
      "First 5 'time' values:\n",
      " 0   2024-10-27 03:33:20\n",
      "1   2024-10-27 03:33:20\n",
      "2   2024-10-27 03:33:20\n",
      "3   2024-10-27 03:33:20\n",
      "4   2024-10-27 03:33:20\n",
      "Name: time, dtype: datetime64[ns]\n",
      "Last 5 'time' values:\n",
      " 211219   2025-06-15 15:06:40\n",
      "211220   2025-06-15 15:06:40\n",
      "211221   2025-06-15 15:06:40\n",
      "211222   2025-06-15 15:06:40\n",
      "211223   2025-06-15 15:06:40\n",
      "Name: time, dtype: datetime64[ns]\n",
      "\n",
      "Created 'date' column from 'time'.\n",
      "First 5 'date' values:\n",
      " 0   2024-10-27\n",
      "1   2024-10-27\n",
      "2   2024-10-27\n",
      "3   2024-10-27\n",
      "4   2024-10-27\n",
      "Name: date, dtype: datetime64[ns]\n"
     ]
    }
   ],
   "source": [
    "#  Convert 'timestamp_unix' to Datetime\n",
    "# 'timestamp_unix' is very likely in MILLISECONDS.\n",
    "print(\"\\nConverting 'timestamp_unix' to datetime...\")\n",
    "# Check for NaNs or unconvertible values before conversion if necessary\n",
    "try:\n",
    "    f2_copy['time'] = pd.to_datetime(f2_copy['timestamp_unix'], unit='ms')\n",
    "    print(\"Successfully converted 'timestamp_unix' to 'time' (datetime64[ns]).\")\n",
    "    print(\"First 5 'time' values:\\n\", f2_copy['time'].head())\n",
    "    print(\"Last 5 'time' values:\\n\", f2_copy['time'].tail())\n",
    "\n",
    "    # Create a 'date' column for merging with sentiment data\n",
    "    f2_copy['date'] = f2_copy['time'].dt.date\n",
    "    f2_copy['date'] = pd.to_datetime(f2_copy['date']) # Ensure it's datetime type\n",
    "    print(\"\\nCreated 'date' column from 'time'.\")\n",
    "    print(\"First 5 'date' values:\\n\", f2_copy['date'].head())\n",
    "\n",
    "except OverflowError as oe:\n",
    "    print(f\"OverflowError during timestamp conversion: {oe}\")\n",
    "    print(\"This can happen if timestamps are too large for standard datetime64[ns] or unit is wrong.\")\n",
    "    print(\"Min timestamp_unix:\", f2_copy['timestamp_unix'].min())\n",
    "    print(\"Max timestamp_unix:\", f2_copy['timestamp_unix'].max())\n",
    "except Exception as e:\n",
    "    print(f\"Error converting 'timestamp_unix': {e}\")\n",
    "\n",
    "\n",
    "if 'date' in f2_copy.index.names:\n",
    "    f2_copy.reset_index(inplace=True)\n",
    "\n"
   ]
  },
  {
   "cell_type": "code",
   "execution_count": 21,
   "metadata": {
    "colab": {
     "base_uri": "https://localhost:8080/",
     "height": 399
    },
    "id": "Q9gqfSKDH-AT",
    "outputId": "f9b72c8b-926f-4d4e-d01e-825d1b8c3349"
   },
   "outputs": [
    {
     "data": {
      "text/html": [
       "<div>\n",
       "<style scoped>\n",
       "    .dataframe tbody tr th:only-of-type {\n",
       "        vertical-align: middle;\n",
       "    }\n",
       "\n",
       "    .dataframe tbody tr th {\n",
       "        vertical-align: top;\n",
       "    }\n",
       "\n",
       "    .dataframe thead th {\n",
       "        text-align: right;\n",
       "    }\n",
       "</style>\n",
       "<table border=\"1\" class=\"dataframe\">\n",
       "  <thead>\n",
       "    <tr style=\"text-align: right;\">\n",
       "      <th></th>\n",
       "      <th>account</th>\n",
       "      <th>symbol</th>\n",
       "      <th>execution_price</th>\n",
       "      <th>size_tokens</th>\n",
       "      <th>size_usd</th>\n",
       "      <th>side</th>\n",
       "      <th>time_ist</th>\n",
       "      <th>start_position_tokens</th>\n",
       "      <th>event_type</th>\n",
       "      <th>closed_pnl</th>\n",
       "      <th>tx_hash</th>\n",
       "      <th>order_id</th>\n",
       "      <th>crossed_maker_taker</th>\n",
       "      <th>fee</th>\n",
       "      <th>trade_id</th>\n",
       "      <th>timestamp_unix</th>\n",
       "      <th>time</th>\n",
       "      <th>date</th>\n",
       "    </tr>\n",
       "  </thead>\n",
       "  <tbody>\n",
       "    <tr>\n",
       "      <th>0</th>\n",
       "      <td>0xae5eacaf9c6b9111fd53034a602c192a04e082ed</td>\n",
       "      <td>@107</td>\n",
       "      <td>7.9769</td>\n",
       "      <td>986.87</td>\n",
       "      <td>7872.16</td>\n",
       "      <td>BUY</td>\n",
       "      <td>02-12-2024 22:50</td>\n",
       "      <td>0.000000</td>\n",
       "      <td>Buy</td>\n",
       "      <td>0.0</td>\n",
       "      <td>0xec09451986a1874e3a980418412fcd0201f500c95bac...</td>\n",
       "      <td>52017706630</td>\n",
       "      <td>True</td>\n",
       "      <td>0.345404</td>\n",
       "      <td>8.950000e+14</td>\n",
       "      <td>1.730000e+12</td>\n",
       "      <td>2024-10-27 03:33:20</td>\n",
       "      <td>2024-10-27</td>\n",
       "    </tr>\n",
       "    <tr>\n",
       "      <th>1</th>\n",
       "      <td>0xae5eacaf9c6b9111fd53034a602c192a04e082ed</td>\n",
       "      <td>@107</td>\n",
       "      <td>7.9800</td>\n",
       "      <td>16.00</td>\n",
       "      <td>127.68</td>\n",
       "      <td>BUY</td>\n",
       "      <td>02-12-2024 22:50</td>\n",
       "      <td>986.524596</td>\n",
       "      <td>Buy</td>\n",
       "      <td>0.0</td>\n",
       "      <td>0xec09451986a1874e3a980418412fcd0201f500c95bac...</td>\n",
       "      <td>52017706630</td>\n",
       "      <td>True</td>\n",
       "      <td>0.005600</td>\n",
       "      <td>4.430000e+14</td>\n",
       "      <td>1.730000e+12</td>\n",
       "      <td>2024-10-27 03:33:20</td>\n",
       "      <td>2024-10-27</td>\n",
       "    </tr>\n",
       "    <tr>\n",
       "      <th>2</th>\n",
       "      <td>0xae5eacaf9c6b9111fd53034a602c192a04e082ed</td>\n",
       "      <td>@107</td>\n",
       "      <td>7.9855</td>\n",
       "      <td>144.09</td>\n",
       "      <td>1150.63</td>\n",
       "      <td>BUY</td>\n",
       "      <td>02-12-2024 22:50</td>\n",
       "      <td>1002.518996</td>\n",
       "      <td>Buy</td>\n",
       "      <td>0.0</td>\n",
       "      <td>0xec09451986a1874e3a980418412fcd0201f500c95bac...</td>\n",
       "      <td>52017706630</td>\n",
       "      <td>True</td>\n",
       "      <td>0.050431</td>\n",
       "      <td>6.600000e+14</td>\n",
       "      <td>1.730000e+12</td>\n",
       "      <td>2024-10-27 03:33:20</td>\n",
       "      <td>2024-10-27</td>\n",
       "    </tr>\n",
       "    <tr>\n",
       "      <th>3</th>\n",
       "      <td>0xae5eacaf9c6b9111fd53034a602c192a04e082ed</td>\n",
       "      <td>@107</td>\n",
       "      <td>7.9874</td>\n",
       "      <td>142.98</td>\n",
       "      <td>1142.04</td>\n",
       "      <td>BUY</td>\n",
       "      <td>02-12-2024 22:50</td>\n",
       "      <td>1146.558564</td>\n",
       "      <td>Buy</td>\n",
       "      <td>0.0</td>\n",
       "      <td>0xec09451986a1874e3a980418412fcd0201f500c95bac...</td>\n",
       "      <td>52017706630</td>\n",
       "      <td>True</td>\n",
       "      <td>0.050043</td>\n",
       "      <td>1.080000e+15</td>\n",
       "      <td>1.730000e+12</td>\n",
       "      <td>2024-10-27 03:33:20</td>\n",
       "      <td>2024-10-27</td>\n",
       "    </tr>\n",
       "    <tr>\n",
       "      <th>4</th>\n",
       "      <td>0xae5eacaf9c6b9111fd53034a602c192a04e082ed</td>\n",
       "      <td>@107</td>\n",
       "      <td>7.9894</td>\n",
       "      <td>8.73</td>\n",
       "      <td>69.75</td>\n",
       "      <td>BUY</td>\n",
       "      <td>02-12-2024 22:50</td>\n",
       "      <td>1289.488521</td>\n",
       "      <td>Buy</td>\n",
       "      <td>0.0</td>\n",
       "      <td>0xec09451986a1874e3a980418412fcd0201f500c95bac...</td>\n",
       "      <td>52017706630</td>\n",
       "      <td>True</td>\n",
       "      <td>0.003055</td>\n",
       "      <td>1.050000e+15</td>\n",
       "      <td>1.730000e+12</td>\n",
       "      <td>2024-10-27 03:33:20</td>\n",
       "      <td>2024-10-27</td>\n",
       "    </tr>\n",
       "  </tbody>\n",
       "</table>\n",
       "</div>"
      ],
      "text/plain": [
       "                                      account symbol  execution_price  \\\n",
       "0  0xae5eacaf9c6b9111fd53034a602c192a04e082ed   @107           7.9769   \n",
       "1  0xae5eacaf9c6b9111fd53034a602c192a04e082ed   @107           7.9800   \n",
       "2  0xae5eacaf9c6b9111fd53034a602c192a04e082ed   @107           7.9855   \n",
       "3  0xae5eacaf9c6b9111fd53034a602c192a04e082ed   @107           7.9874   \n",
       "4  0xae5eacaf9c6b9111fd53034a602c192a04e082ed   @107           7.9894   \n",
       "\n",
       "   size_tokens  size_usd side          time_ist  start_position_tokens  \\\n",
       "0       986.87   7872.16  BUY  02-12-2024 22:50               0.000000   \n",
       "1        16.00    127.68  BUY  02-12-2024 22:50             986.524596   \n",
       "2       144.09   1150.63  BUY  02-12-2024 22:50            1002.518996   \n",
       "3       142.98   1142.04  BUY  02-12-2024 22:50            1146.558564   \n",
       "4         8.73     69.75  BUY  02-12-2024 22:50            1289.488521   \n",
       "\n",
       "  event_type  closed_pnl                                            tx_hash  \\\n",
       "0        Buy         0.0  0xec09451986a1874e3a980418412fcd0201f500c95bac...   \n",
       "1        Buy         0.0  0xec09451986a1874e3a980418412fcd0201f500c95bac...   \n",
       "2        Buy         0.0  0xec09451986a1874e3a980418412fcd0201f500c95bac...   \n",
       "3        Buy         0.0  0xec09451986a1874e3a980418412fcd0201f500c95bac...   \n",
       "4        Buy         0.0  0xec09451986a1874e3a980418412fcd0201f500c95bac...   \n",
       "\n",
       "      order_id  crossed_maker_taker       fee      trade_id  timestamp_unix  \\\n",
       "0  52017706630                 True  0.345404  8.950000e+14    1.730000e+12   \n",
       "1  52017706630                 True  0.005600  4.430000e+14    1.730000e+12   \n",
       "2  52017706630                 True  0.050431  6.600000e+14    1.730000e+12   \n",
       "3  52017706630                 True  0.050043  1.080000e+15    1.730000e+12   \n",
       "4  52017706630                 True  0.003055  1.050000e+15    1.730000e+12   \n",
       "\n",
       "                 time       date  \n",
       "0 2024-10-27 03:33:20 2024-10-27  \n",
       "1 2024-10-27 03:33:20 2024-10-27  \n",
       "2 2024-10-27 03:33:20 2024-10-27  \n",
       "3 2024-10-27 03:33:20 2024-10-27  \n",
       "4 2024-10-27 03:33:20 2024-10-27  "
      ]
     },
     "execution_count": 21,
     "metadata": {},
     "output_type": "execute_result"
    }
   ],
   "source": [
    "f2_copy.head()"
   ]
  },
  {
   "cell_type": "code",
   "execution_count": 22,
   "metadata": {
    "colab": {
     "base_uri": "https://localhost:8080/"
    },
    "id": "_ODh-QX1JSKo",
    "outputId": "b1af1efd-3b0e-412b-b815-ca54e1d06e8d"
   },
   "outputs": [
    {
     "name": "stdout",
     "output_type": "stream",
     "text": [
      "\n",
      "Info after renaming and time conversion:\n",
      "<class 'pandas.core.frame.DataFrame'>\n",
      "RangeIndex: 211224 entries, 0 to 211223\n",
      "Data columns (total 18 columns):\n",
      " #   Column                 Non-Null Count   Dtype         \n",
      "---  ------                 --------------   -----         \n",
      " 0   account                211224 non-null  object        \n",
      " 1   symbol                 211224 non-null  object        \n",
      " 2   execution_price        211224 non-null  float64       \n",
      " 3   size_tokens            211224 non-null  float64       \n",
      " 4   size_usd               211224 non-null  float64       \n",
      " 5   side                   211224 non-null  object        \n",
      " 6   time_ist               211224 non-null  object        \n",
      " 7   start_position_tokens  211224 non-null  float64       \n",
      " 8   event_type             211224 non-null  object        \n",
      " 9   closed_pnl             211224 non-null  float64       \n",
      " 10  tx_hash                211224 non-null  object        \n",
      " 11  order_id               211224 non-null  int64         \n",
      " 12  crossed_maker_taker    211224 non-null  bool          \n",
      " 13  fee                    211224 non-null  float64       \n",
      " 14  trade_id               211224 non-null  float64       \n",
      " 15  timestamp_unix         211224 non-null  float64       \n",
      " 16  time                   211224 non-null  datetime64[ns]\n",
      " 17  date                   211224 non-null  datetime64[ns]\n",
      "dtypes: bool(1), datetime64[ns](2), float64(8), int64(1), object(6)\n",
      "memory usage: 27.6+ MB\n"
     ]
    }
   ],
   "source": [
    "# Brief check of data types after changes\n",
    "print(\"\\nInfo after renaming and time conversion:\")\n",
    "f2_copy.info()"
   ]
  },
  {
   "cell_type": "code",
   "execution_count": 23,
   "metadata": {
    "colab": {
     "base_uri": "https://localhost:8080/"
    },
    "id": "la-5cjxtJhVW",
    "outputId": "3a8f694e-a9ee-4230-9989-703c2655c9ab"
   },
   "outputs": [
    {
     "name": "stdout",
     "output_type": "stream",
     "text": [
      "\n",
      "Number of rows with negative fees: 2476\n"
     ]
    }
   ],
   "source": [
    "# Quick check of negative fees\n",
    "\n",
    "negative_fees = f2_copy[f2_copy['fee'] < 0]\n",
    "print(f\"\\nNumber of rows with negative fees: {len(negative_fees)}\")"
   ]
  },
  {
   "cell_type": "code",
   "execution_count": 24,
   "metadata": {
    "colab": {
     "base_uri": "https://localhost:8080/"
    },
    "id": "mj9eT2bqJzNM",
    "outputId": "0b437a26-eda1-492d-8538-aa5d28a49218"
   },
   "outputs": [
    {
     "name": "stdout",
     "output_type": "stream",
     "text": [
      "Negative fees found:\n",
      "                                          account symbol  execution_price  \\\n",
      "28806  0x75f7eeb85dc639d5e99c78f95393aa9a5f1170d4   RUNE          4.28680   \n",
      "28807  0x75f7eeb85dc639d5e99c78f95393aa9a5f1170d4   ONDO          0.27205   \n",
      "28808  0x75f7eeb85dc639d5e99c78f95393aa9a5f1170d4   ONDO          0.27205   \n",
      "28809  0x75f7eeb85dc639d5e99c78f95393aa9a5f1170d4   ONDO          0.26833   \n",
      "28810  0x75f7eeb85dc639d5e99c78f95393aa9a5f1170d4   ONDO          0.27107   \n",
      "...                                           ...    ...              ...   \n",
      "83795  0x3998f134d6aaa2b6a5f723806d00fd2bbbbce891    TIA         16.95600   \n",
      "83796  0x3998f134d6aaa2b6a5f723806d00fd2bbbbce891    TIA         16.95600   \n",
      "83797  0x3998f134d6aaa2b6a5f723806d00fd2bbbbce891    TIA         16.95600   \n",
      "83798  0x3998f134d6aaa2b6a5f723806d00fd2bbbbce891    TIA         16.95600   \n",
      "83799  0x3998f134d6aaa2b6a5f723806d00fd2bbbbce891    TIA         16.95600   \n",
      "\n",
      "       size_tokens  size_usd  side          time_ist  start_position_tokens  \\\n",
      "28806       1500.0   6430.20  SELL  22-01-2024 03:48                    0.0   \n",
      "28807      14139.0   3846.51   BUY  22-01-2024 07:28                    0.0   \n",
      "28808        249.0     67.74   BUY  22-01-2024 07:28                14139.0   \n",
      "28809      20000.0   5366.60   BUY  22-01-2024 07:28                14388.0   \n",
      "28810        100.0     27.11   BUY  22-01-2024 07:29                34388.0   \n",
      "...            ...       ...   ...               ...                    ...   \n",
      "83795        285.1   4834.16  SELL  28-01-2024 20:31                  671.4   \n",
      "83796         23.4    396.77  SELL  28-01-2024 20:31                  386.3   \n",
      "83797        212.6   3604.85  SELL  28-01-2024 20:31                  362.9   \n",
      "83798          6.6    111.91  SELL  28-01-2024 20:31                  150.3   \n",
      "83799        143.7   2436.58  SELL  28-01-2024 20:31                  143.7   \n",
      "\n",
      "       event_type  closed_pnl  \\\n",
      "28806  Open Short    0.000000   \n",
      "28807   Open Long    0.000000   \n",
      "28808   Open Long    0.000000   \n",
      "28809   Open Long    0.000000   \n",
      "28810   Open Long    0.000000   \n",
      "...           ...         ...   \n",
      "83795  Close Long -661.514679   \n",
      "83796  Close Long  -54.294786   \n",
      "83797  Close Long -493.293654   \n",
      "83798  Close Long  -15.313914   \n",
      "83799  Close Long -333.425673   \n",
      "\n",
      "                                                 tx_hash    order_id  \\\n",
      "28806  0xdcfc6c7955a7f5db6ca90407427222015e0040e45047...  7688004466   \n",
      "28807  0xcce92ffcbf63ca530b42040743082e01d4005d5aa790...  7700952493   \n",
      "28808  0xcce92ffcbf63ca530b42040743082e01d4005d5aa790...  7700952493   \n",
      "28809  0xdcacf1355584753131ab040743083d015500120b4de6...  7700958287   \n",
      "28810  0x94fe00eac90ed43e38c204074308a1013f00fa12168e...  7700984519   \n",
      "...                                                  ...         ...   \n",
      "83795  0xc6d1ee56e150f92d011c04075c690c012800764616ac...  8310669813   \n",
      "83796  0x02ac591fb476f53af62a04075c690d02010b003246f5...  8310669813   \n",
      "83797  0x581ccb879474f05f9ecd04075c690d02011d00d22793...  8310669813   \n",
      "83798  0x33199c2544ea6b3bda9804075c690e01d100d5a8641a...  8310669813   \n",
      "83799  0x441124e97590ee7d3aa204075c690e02016b00ec4a67...  8310669813   \n",
      "\n",
      "       crossed_maker_taker       fee      trade_id  timestamp_unix  \\\n",
      "28806                False -0.128604  8.290000e+14    1.710000e+12   \n",
      "28807                False -0.076930  4.030000e+14    1.710000e+12   \n",
      "28808                False -0.001354  1.070000e+15    1.710000e+12   \n",
      "28809                False -0.107332  4.990000e+14    1.710000e+12   \n",
      "28810                False -0.000542  1.040000e+15    1.710000e+12   \n",
      "...                    ...       ...           ...             ...   \n",
      "83795                False -0.096683  2.860000e+14    1.710000e+12   \n",
      "83796                False -0.007935  1.480000e+14    1.710000e+12   \n",
      "83797                False -0.072096  2.340000e+14    1.710000e+12   \n",
      "83798                False -0.002238  4.150000e+14    1.710000e+12   \n",
      "83799                False -0.048731  1.350000e+14    1.710000e+12   \n",
      "\n",
      "                     time       date  \n",
      "28806 2024-03-09 16:00:00 2024-03-09  \n",
      "28807 2024-03-09 16:00:00 2024-03-09  \n",
      "28808 2024-03-09 16:00:00 2024-03-09  \n",
      "28809 2024-03-09 16:00:00 2024-03-09  \n",
      "28810 2024-03-09 16:00:00 2024-03-09  \n",
      "...                   ...        ...  \n",
      "83795 2024-03-09 16:00:00 2024-03-09  \n",
      "83796 2024-03-09 16:00:00 2024-03-09  \n",
      "83797 2024-03-09 16:00:00 2024-03-09  \n",
      "83798 2024-03-09 16:00:00 2024-03-09  \n",
      "83799 2024-03-09 16:00:00 2024-03-09  \n",
      "\n",
      "[2476 rows x 18 columns]\n"
     ]
    }
   ],
   "source": [
    "if len(negative_fees) > 0:\n",
    "    print(\"Negative fees found:\")\n",
    "    print(negative_fees)\n",
    "else:\n",
    "    print(\"No negative fees found.\")"
   ]
  },
  {
   "cell_type": "code",
   "execution_count": 25,
   "metadata": {
    "colab": {
     "base_uri": "https://localhost:8080/",
     "height": 399
    },
    "id": "uHMagT0zKIwT",
    "outputId": "13a2202f-99b3-45a4-dd2a-012aca9797b4"
   },
   "outputs": [
    {
     "data": {
      "text/html": [
       "<div>\n",
       "<style scoped>\n",
       "    .dataframe tbody tr th:only-of-type {\n",
       "        vertical-align: middle;\n",
       "    }\n",
       "\n",
       "    .dataframe tbody tr th {\n",
       "        vertical-align: top;\n",
       "    }\n",
       "\n",
       "    .dataframe thead th {\n",
       "        text-align: right;\n",
       "    }\n",
       "</style>\n",
       "<table border=\"1\" class=\"dataframe\">\n",
       "  <thead>\n",
       "    <tr style=\"text-align: right;\">\n",
       "      <th></th>\n",
       "      <th>account</th>\n",
       "      <th>symbol</th>\n",
       "      <th>execution_price</th>\n",
       "      <th>size_tokens</th>\n",
       "      <th>size_usd</th>\n",
       "      <th>side</th>\n",
       "      <th>time_ist</th>\n",
       "      <th>start_position_tokens</th>\n",
       "      <th>event_type</th>\n",
       "      <th>closed_pnl</th>\n",
       "      <th>tx_hash</th>\n",
       "      <th>order_id</th>\n",
       "      <th>crossed_maker_taker</th>\n",
       "      <th>fee</th>\n",
       "      <th>trade_id</th>\n",
       "      <th>timestamp_unix</th>\n",
       "      <th>time</th>\n",
       "      <th>date</th>\n",
       "    </tr>\n",
       "  </thead>\n",
       "  <tbody>\n",
       "    <tr>\n",
       "      <th>0</th>\n",
       "      <td>0xae5eacaf9c6b9111fd53034a602c192a04e082ed</td>\n",
       "      <td>@107</td>\n",
       "      <td>7.9769</td>\n",
       "      <td>986.87</td>\n",
       "      <td>7872.16</td>\n",
       "      <td>BUY</td>\n",
       "      <td>02-12-2024 22:50</td>\n",
       "      <td>0.000000</td>\n",
       "      <td>Buy</td>\n",
       "      <td>0.0</td>\n",
       "      <td>0xec09451986a1874e3a980418412fcd0201f500c95bac...</td>\n",
       "      <td>52017706630</td>\n",
       "      <td>True</td>\n",
       "      <td>0.345404</td>\n",
       "      <td>8.950000e+14</td>\n",
       "      <td>1.730000e+12</td>\n",
       "      <td>2024-10-27 03:33:20</td>\n",
       "      <td>2024-10-27</td>\n",
       "    </tr>\n",
       "    <tr>\n",
       "      <th>1</th>\n",
       "      <td>0xae5eacaf9c6b9111fd53034a602c192a04e082ed</td>\n",
       "      <td>@107</td>\n",
       "      <td>7.9800</td>\n",
       "      <td>16.00</td>\n",
       "      <td>127.68</td>\n",
       "      <td>BUY</td>\n",
       "      <td>02-12-2024 22:50</td>\n",
       "      <td>986.524596</td>\n",
       "      <td>Buy</td>\n",
       "      <td>0.0</td>\n",
       "      <td>0xec09451986a1874e3a980418412fcd0201f500c95bac...</td>\n",
       "      <td>52017706630</td>\n",
       "      <td>True</td>\n",
       "      <td>0.005600</td>\n",
       "      <td>4.430000e+14</td>\n",
       "      <td>1.730000e+12</td>\n",
       "      <td>2024-10-27 03:33:20</td>\n",
       "      <td>2024-10-27</td>\n",
       "    </tr>\n",
       "    <tr>\n",
       "      <th>2</th>\n",
       "      <td>0xae5eacaf9c6b9111fd53034a602c192a04e082ed</td>\n",
       "      <td>@107</td>\n",
       "      <td>7.9855</td>\n",
       "      <td>144.09</td>\n",
       "      <td>1150.63</td>\n",
       "      <td>BUY</td>\n",
       "      <td>02-12-2024 22:50</td>\n",
       "      <td>1002.518996</td>\n",
       "      <td>Buy</td>\n",
       "      <td>0.0</td>\n",
       "      <td>0xec09451986a1874e3a980418412fcd0201f500c95bac...</td>\n",
       "      <td>52017706630</td>\n",
       "      <td>True</td>\n",
       "      <td>0.050431</td>\n",
       "      <td>6.600000e+14</td>\n",
       "      <td>1.730000e+12</td>\n",
       "      <td>2024-10-27 03:33:20</td>\n",
       "      <td>2024-10-27</td>\n",
       "    </tr>\n",
       "    <tr>\n",
       "      <th>3</th>\n",
       "      <td>0xae5eacaf9c6b9111fd53034a602c192a04e082ed</td>\n",
       "      <td>@107</td>\n",
       "      <td>7.9874</td>\n",
       "      <td>142.98</td>\n",
       "      <td>1142.04</td>\n",
       "      <td>BUY</td>\n",
       "      <td>02-12-2024 22:50</td>\n",
       "      <td>1146.558564</td>\n",
       "      <td>Buy</td>\n",
       "      <td>0.0</td>\n",
       "      <td>0xec09451986a1874e3a980418412fcd0201f500c95bac...</td>\n",
       "      <td>52017706630</td>\n",
       "      <td>True</td>\n",
       "      <td>0.050043</td>\n",
       "      <td>1.080000e+15</td>\n",
       "      <td>1.730000e+12</td>\n",
       "      <td>2024-10-27 03:33:20</td>\n",
       "      <td>2024-10-27</td>\n",
       "    </tr>\n",
       "    <tr>\n",
       "      <th>4</th>\n",
       "      <td>0xae5eacaf9c6b9111fd53034a602c192a04e082ed</td>\n",
       "      <td>@107</td>\n",
       "      <td>7.9894</td>\n",
       "      <td>8.73</td>\n",
       "      <td>69.75</td>\n",
       "      <td>BUY</td>\n",
       "      <td>02-12-2024 22:50</td>\n",
       "      <td>1289.488521</td>\n",
       "      <td>Buy</td>\n",
       "      <td>0.0</td>\n",
       "      <td>0xec09451986a1874e3a980418412fcd0201f500c95bac...</td>\n",
       "      <td>52017706630</td>\n",
       "      <td>True</td>\n",
       "      <td>0.003055</td>\n",
       "      <td>1.050000e+15</td>\n",
       "      <td>1.730000e+12</td>\n",
       "      <td>2024-10-27 03:33:20</td>\n",
       "      <td>2024-10-27</td>\n",
       "    </tr>\n",
       "  </tbody>\n",
       "</table>\n",
       "</div>"
      ],
      "text/plain": [
       "                                      account symbol  execution_price  \\\n",
       "0  0xae5eacaf9c6b9111fd53034a602c192a04e082ed   @107           7.9769   \n",
       "1  0xae5eacaf9c6b9111fd53034a602c192a04e082ed   @107           7.9800   \n",
       "2  0xae5eacaf9c6b9111fd53034a602c192a04e082ed   @107           7.9855   \n",
       "3  0xae5eacaf9c6b9111fd53034a602c192a04e082ed   @107           7.9874   \n",
       "4  0xae5eacaf9c6b9111fd53034a602c192a04e082ed   @107           7.9894   \n",
       "\n",
       "   size_tokens  size_usd side          time_ist  start_position_tokens  \\\n",
       "0       986.87   7872.16  BUY  02-12-2024 22:50               0.000000   \n",
       "1        16.00    127.68  BUY  02-12-2024 22:50             986.524596   \n",
       "2       144.09   1150.63  BUY  02-12-2024 22:50            1002.518996   \n",
       "3       142.98   1142.04  BUY  02-12-2024 22:50            1146.558564   \n",
       "4         8.73     69.75  BUY  02-12-2024 22:50            1289.488521   \n",
       "\n",
       "  event_type  closed_pnl                                            tx_hash  \\\n",
       "0        Buy         0.0  0xec09451986a1874e3a980418412fcd0201f500c95bac...   \n",
       "1        Buy         0.0  0xec09451986a1874e3a980418412fcd0201f500c95bac...   \n",
       "2        Buy         0.0  0xec09451986a1874e3a980418412fcd0201f500c95bac...   \n",
       "3        Buy         0.0  0xec09451986a1874e3a980418412fcd0201f500c95bac...   \n",
       "4        Buy         0.0  0xec09451986a1874e3a980418412fcd0201f500c95bac...   \n",
       "\n",
       "      order_id  crossed_maker_taker       fee      trade_id  timestamp_unix  \\\n",
       "0  52017706630                 True  0.345404  8.950000e+14    1.730000e+12   \n",
       "1  52017706630                 True  0.005600  4.430000e+14    1.730000e+12   \n",
       "2  52017706630                 True  0.050431  6.600000e+14    1.730000e+12   \n",
       "3  52017706630                 True  0.050043  1.080000e+15    1.730000e+12   \n",
       "4  52017706630                 True  0.003055  1.050000e+15    1.730000e+12   \n",
       "\n",
       "                 time       date  \n",
       "0 2024-10-27 03:33:20 2024-10-27  \n",
       "1 2024-10-27 03:33:20 2024-10-27  \n",
       "2 2024-10-27 03:33:20 2024-10-27  \n",
       "3 2024-10-27 03:33:20 2024-10-27  \n",
       "4 2024-10-27 03:33:20 2024-10-27  "
      ]
     },
     "execution_count": 25,
     "metadata": {},
     "output_type": "execute_result"
    }
   ],
   "source": [
    "f2_copy.head()"
   ]
  },
  {
   "cell_type": "code",
   "execution_count": 26,
   "metadata": {
    "colab": {
     "base_uri": "https://localhost:8080/"
    },
    "id": "aqIS9WkGKMM5",
    "outputId": "efcc9c26-10b9-4e79-bd9b-064f34f2c76e"
   },
   "outputs": [
    {
     "name": "stdout",
     "output_type": "stream",
     "text": [
      "\u001b[36m----Symbol (Coin Names) ---\u001b[0m\n",
      "Number of unique coins: 246\n",
      "['@107' 'AAVE' 'DYDX' 'AIXBT' 'GMX' 'EIGEN' 'HYPE' 'SOL' 'SUI' 'DOGE'\n",
      " 'ETH' 'kPEPE' 'TRUMP' 'ONDO' 'ENA' 'LINK' 'XRP' 'S' 'BNB' 'BERA' 'WIF'\n",
      " 'LAYER' 'MKR' 'KAITO' 'IP' 'JUP' 'USUAL' 'ADA' 'BTC' 'PURR/USDC' 'ZRO'\n",
      " '@7' '@19' '@21' '@44' '@48' '@11' '@15' '@46' '@61' '@28' '@45' '@9'\n",
      " '@41' '@38' 'kSHIB' 'GRASS' 'TAO' 'AVAX' '@2' '@6' '@8' '@10' '@12' '@16'\n",
      " '@17' '@35' '@26' '@24' '@32' '@29' '@31' '@33' '@34' '@36' '@37' '@47'\n",
      " '@53' '@74' 'RUNE' 'CANTO' 'NTRN' 'BLUR' 'ZETA' 'MINA' 'MANTA' 'RNDR'\n",
      " 'WLD' 'kBONK' 'ALT' 'INJ' 'STG' 'ZEN' 'MAVIA' 'PIXEL' 'ILV' 'FET' 'STRK'\n",
      " 'CAKE' 'STX' 'ACE' 'PENDLE' 'AR' 'XAI' 'APE' 'MEME' 'NEAR' 'SEI' 'FTM'\n",
      " 'MYRO' 'BIGTIME' 'IMX' 'BADGER' 'POLYX' 'OP' 'TNSR' 'MAV' 'TIA' 'MERL'\n",
      " 'TON' 'PURR' 'ME' 'CRV' 'BRETT' 'CHILLGUY' 'MOODENG' 'VIRTUAL' 'COMP'\n",
      " 'FARTCOIN' 'AI16Z' 'GRIFFAIN' 'ZEREBRO' 'SPX' 'MELANIA' 'PENGU' 'JELLY'\n",
      " 'VVV' 'VINE' 'TST' 'ARK' 'YGG' 'POPCAT' 'NIL' 'MOVE' 'BABY' 'RENDER'\n",
      " 'PROMPT' 'WCT' 'OGN' 'HYPER' 'ZORA' 'BIO' 'INIT' 'TURBO' 'ARB' '@142'\n",
      " 'JTO' 'PYTH' 'MATIC' 'HPOS' 'FXS' 'FIL' 'SHIA' 'PEOPLE' 'UNI' 'SUSHI'\n",
      " 'LOOM' 'USTC' 'RLB' 'ETC' 'GAS' 'BANANA' 'UNIBOT' 'CYBER' 'GMT' 'ENS'\n",
      " 'DYM' 'ETHFI' '@4' '@3' '@20' '@14' '@51' '@125' '@109' '@85' '@59' '@23'\n",
      " '@78' 'GOAT' 'LDO' 'PNUT' '@138' '@151' '@18' '@25' '@42' '@13' '@40'\n",
      " '@39' '@30' '@103' '@100' '@135' '@116' '@147' '@152' '@153' 'ANIME' 'W'\n",
      " 'ORDI' 'IO' 'GALA' 'AI' 'NEIROETH' 'SAND' 'BOME' 'MEW' 'SUPER' 'ALGO'\n",
      " 'HBAR' 'APT' 'BLAST' 'kNEIRO' 'ATOM' 'DOT' 'kFLOKI' 'TRX' 'FTT' '@1'\n",
      " '@83' '@124' '@112' '@95' 'LISTA' 'LTC' 'RSR' 'MNT' '@113' 'ZK' '@117'\n",
      " '@86' '@68' '@63' 'MORPHO' 'OM' 'REZ' 'REQ' '@49' 'BNT' 'SCR' 'IOTA'\n",
      " '@93' '@114' '@123' 'PAXG']\n"
     ]
    }
   ],
   "source": [
    "#Further Explore Trader Data: Symbol, Event Type\n",
    "\n",
    "print(Fore.CYAN+\"----Symbol (Coin Names) ---\"+ Style.RESET_ALL)\n",
    "unique_coin=f2_copy['symbol'].unique()\n",
    "print(f\"Number of unique coins: {len(unique_coin)}\")\n",
    "print(unique_coin)"
   ]
  },
  {
   "cell_type": "code",
   "execution_count": 27,
   "metadata": {
    "colab": {
     "base_uri": "https://localhost:8080/"
    },
    "id": "syvX9e7qNHK9",
    "outputId": "f923e323-2d23-4d4d-be70-f1c7e75ec6fb"
   },
   "outputs": [
    {
     "name": "stdout",
     "output_type": "stream",
     "text": [
      "\u001b[91m\n",
      "Value counts for 'symbol' (top 10):\u001b[0m\n",
      "symbol\n",
      "HYPE         68005\n",
      "@107         29992\n",
      "BTC          26064\n",
      "ETH          11158\n",
      "SOL          10691\n",
      "FARTCOIN      4650\n",
      "MELANIA       4428\n",
      "PURR/USDC     2774\n",
      "WLD           1983\n",
      "SUI           1979\n",
      "Name: count, dtype: int64\n"
     ]
    }
   ],
   "source": [
    "print(Fore.LIGHTRED_EX+\"\\nValue counts for 'symbol' (top 10):\"+Style.RESET_ALL)\n",
    "print(f2_copy['symbol'].value_counts().nlargest(10))"
   ]
  },
  {
   "cell_type": "code",
   "execution_count": 28,
   "metadata": {
    "colab": {
     "base_uri": "https://localhost:8080/"
    },
    "id": "Ez_Dtbd-P6VD",
    "outputId": "c6424389-c0af-4d16-912e-66b3d1326845"
   },
   "outputs": [
    {
     "name": "stdout",
     "output_type": "stream",
     "text": [
      "\n",
      "Potential Bitcoin-related symbols found (2):\n",
      "['AIXBT', 'BTC']\n"
     ]
    }
   ],
   "source": [
    "# Let's specifically look for Bitcoin-related symbols\n",
    "# Common BTC symbols: BTC, XBT, WBTC, BTC-PERP, BTC/USD, BTC/USDT, etc.\n",
    "\n",
    "btc_related_symbols = [s for s in unique_coin if 'BTC' in str(s).upper() or 'XBT' in str(s).upper()]\n",
    "print(f\"\\nPotential Bitcoin-related symbols found ({len(btc_related_symbols)}):\")\n",
    "print(btc_related_symbols)"
   ]
  },
  {
   "cell_type": "code",
   "execution_count": 29,
   "metadata": {
    "colab": {
     "base_uri": "https://localhost:8080/"
    },
    "id": "FUoOSCvxMkY1",
    "outputId": "4a12b2a8-d8df-4b13-f1ab-a2ada8f62daa"
   },
   "outputs": [
    {
     "name": "stdout",
     "output_type": "stream",
     "text": [
      "\u001b[36m----Event Type ---\u001b[0m\n",
      "Number of unique event types: 12\n",
      "['Buy' 'Sell' 'Open Long' 'Close Long' 'Spot Dust Conversion' 'Open Short'\n",
      " 'Close Short' 'Long > Short' 'Short > Long' 'Auto-Deleveraging'\n",
      " 'Liquidated Isolated Short' 'Settlement']\n",
      "\u001b[91m\n",
      "Value counts for 'event_type' (top 10):\u001b[0m\n",
      "event_type\n",
      "Open Long                    49895\n",
      "Close Long                   48678\n",
      "Open Short                   39741\n",
      "Close Short                  36013\n",
      "Sell                         19902\n",
      "Buy                          16716\n",
      "Spot Dust Conversion           142\n",
      "Short > Long                    70\n",
      "Long > Short                    57\n",
      "Auto-Deleveraging                8\n",
      "Liquidated Isolated Short        1\n",
      "Settlement                       1\n",
      "Name: count, dtype: int64\n"
     ]
    }
   ],
   "source": [
    "print(Fore.CYAN+\"----Event Type ---\"+ Style.RESET_ALL)\n",
    "unique_event=f2_copy['event_type'].unique()\n",
    "print(f\"Number of unique event types: {len(unique_event)}\")\n",
    "print(unique_event)\n",
    "print(Fore.LIGHTRED_EX+\"\\nValue counts for 'event_type' (top 10):\"+Style.RESET_ALL)\n",
    "print(f2_copy['event_type'].value_counts())"
   ]
  },
  {
   "cell_type": "code",
   "execution_count": 30,
   "metadata": {
    "colab": {
     "base_uri": "https://localhost:8080/",
     "height": 399
    },
    "id": "CPhMvNWIO0Fw",
    "outputId": "4faff217-1090-4d57-c813-32c7bf0348e8"
   },
   "outputs": [
    {
     "data": {
      "text/html": [
       "<div>\n",
       "<style scoped>\n",
       "    .dataframe tbody tr th:only-of-type {\n",
       "        vertical-align: middle;\n",
       "    }\n",
       "\n",
       "    .dataframe tbody tr th {\n",
       "        vertical-align: top;\n",
       "    }\n",
       "\n",
       "    .dataframe thead th {\n",
       "        text-align: right;\n",
       "    }\n",
       "</style>\n",
       "<table border=\"1\" class=\"dataframe\">\n",
       "  <thead>\n",
       "    <tr style=\"text-align: right;\">\n",
       "      <th></th>\n",
       "      <th>account</th>\n",
       "      <th>symbol</th>\n",
       "      <th>execution_price</th>\n",
       "      <th>size_tokens</th>\n",
       "      <th>size_usd</th>\n",
       "      <th>side</th>\n",
       "      <th>time_ist</th>\n",
       "      <th>start_position_tokens</th>\n",
       "      <th>event_type</th>\n",
       "      <th>closed_pnl</th>\n",
       "      <th>tx_hash</th>\n",
       "      <th>order_id</th>\n",
       "      <th>crossed_maker_taker</th>\n",
       "      <th>fee</th>\n",
       "      <th>trade_id</th>\n",
       "      <th>timestamp_unix</th>\n",
       "      <th>time</th>\n",
       "      <th>date</th>\n",
       "    </tr>\n",
       "  </thead>\n",
       "  <tbody>\n",
       "    <tr>\n",
       "      <th>0</th>\n",
       "      <td>0xae5eacaf9c6b9111fd53034a602c192a04e082ed</td>\n",
       "      <td>@107</td>\n",
       "      <td>7.9769</td>\n",
       "      <td>986.87</td>\n",
       "      <td>7872.16</td>\n",
       "      <td>BUY</td>\n",
       "      <td>02-12-2024 22:50</td>\n",
       "      <td>0.000000</td>\n",
       "      <td>Buy</td>\n",
       "      <td>0.0</td>\n",
       "      <td>0xec09451986a1874e3a980418412fcd0201f500c95bac...</td>\n",
       "      <td>52017706630</td>\n",
       "      <td>True</td>\n",
       "      <td>0.345404</td>\n",
       "      <td>8.950000e+14</td>\n",
       "      <td>1.730000e+12</td>\n",
       "      <td>2024-10-27 03:33:20</td>\n",
       "      <td>2024-10-27</td>\n",
       "    </tr>\n",
       "    <tr>\n",
       "      <th>1</th>\n",
       "      <td>0xae5eacaf9c6b9111fd53034a602c192a04e082ed</td>\n",
       "      <td>@107</td>\n",
       "      <td>7.9800</td>\n",
       "      <td>16.00</td>\n",
       "      <td>127.68</td>\n",
       "      <td>BUY</td>\n",
       "      <td>02-12-2024 22:50</td>\n",
       "      <td>986.524596</td>\n",
       "      <td>Buy</td>\n",
       "      <td>0.0</td>\n",
       "      <td>0xec09451986a1874e3a980418412fcd0201f500c95bac...</td>\n",
       "      <td>52017706630</td>\n",
       "      <td>True</td>\n",
       "      <td>0.005600</td>\n",
       "      <td>4.430000e+14</td>\n",
       "      <td>1.730000e+12</td>\n",
       "      <td>2024-10-27 03:33:20</td>\n",
       "      <td>2024-10-27</td>\n",
       "    </tr>\n",
       "    <tr>\n",
       "      <th>2</th>\n",
       "      <td>0xae5eacaf9c6b9111fd53034a602c192a04e082ed</td>\n",
       "      <td>@107</td>\n",
       "      <td>7.9855</td>\n",
       "      <td>144.09</td>\n",
       "      <td>1150.63</td>\n",
       "      <td>BUY</td>\n",
       "      <td>02-12-2024 22:50</td>\n",
       "      <td>1002.518996</td>\n",
       "      <td>Buy</td>\n",
       "      <td>0.0</td>\n",
       "      <td>0xec09451986a1874e3a980418412fcd0201f500c95bac...</td>\n",
       "      <td>52017706630</td>\n",
       "      <td>True</td>\n",
       "      <td>0.050431</td>\n",
       "      <td>6.600000e+14</td>\n",
       "      <td>1.730000e+12</td>\n",
       "      <td>2024-10-27 03:33:20</td>\n",
       "      <td>2024-10-27</td>\n",
       "    </tr>\n",
       "    <tr>\n",
       "      <th>3</th>\n",
       "      <td>0xae5eacaf9c6b9111fd53034a602c192a04e082ed</td>\n",
       "      <td>@107</td>\n",
       "      <td>7.9874</td>\n",
       "      <td>142.98</td>\n",
       "      <td>1142.04</td>\n",
       "      <td>BUY</td>\n",
       "      <td>02-12-2024 22:50</td>\n",
       "      <td>1146.558564</td>\n",
       "      <td>Buy</td>\n",
       "      <td>0.0</td>\n",
       "      <td>0xec09451986a1874e3a980418412fcd0201f500c95bac...</td>\n",
       "      <td>52017706630</td>\n",
       "      <td>True</td>\n",
       "      <td>0.050043</td>\n",
       "      <td>1.080000e+15</td>\n",
       "      <td>1.730000e+12</td>\n",
       "      <td>2024-10-27 03:33:20</td>\n",
       "      <td>2024-10-27</td>\n",
       "    </tr>\n",
       "    <tr>\n",
       "      <th>4</th>\n",
       "      <td>0xae5eacaf9c6b9111fd53034a602c192a04e082ed</td>\n",
       "      <td>@107</td>\n",
       "      <td>7.9894</td>\n",
       "      <td>8.73</td>\n",
       "      <td>69.75</td>\n",
       "      <td>BUY</td>\n",
       "      <td>02-12-2024 22:50</td>\n",
       "      <td>1289.488521</td>\n",
       "      <td>Buy</td>\n",
       "      <td>0.0</td>\n",
       "      <td>0xec09451986a1874e3a980418412fcd0201f500c95bac...</td>\n",
       "      <td>52017706630</td>\n",
       "      <td>True</td>\n",
       "      <td>0.003055</td>\n",
       "      <td>1.050000e+15</td>\n",
       "      <td>1.730000e+12</td>\n",
       "      <td>2024-10-27 03:33:20</td>\n",
       "      <td>2024-10-27</td>\n",
       "    </tr>\n",
       "  </tbody>\n",
       "</table>\n",
       "</div>"
      ],
      "text/plain": [
       "                                      account symbol  execution_price  \\\n",
       "0  0xae5eacaf9c6b9111fd53034a602c192a04e082ed   @107           7.9769   \n",
       "1  0xae5eacaf9c6b9111fd53034a602c192a04e082ed   @107           7.9800   \n",
       "2  0xae5eacaf9c6b9111fd53034a602c192a04e082ed   @107           7.9855   \n",
       "3  0xae5eacaf9c6b9111fd53034a602c192a04e082ed   @107           7.9874   \n",
       "4  0xae5eacaf9c6b9111fd53034a602c192a04e082ed   @107           7.9894   \n",
       "\n",
       "   size_tokens  size_usd side          time_ist  start_position_tokens  \\\n",
       "0       986.87   7872.16  BUY  02-12-2024 22:50               0.000000   \n",
       "1        16.00    127.68  BUY  02-12-2024 22:50             986.524596   \n",
       "2       144.09   1150.63  BUY  02-12-2024 22:50            1002.518996   \n",
       "3       142.98   1142.04  BUY  02-12-2024 22:50            1146.558564   \n",
       "4         8.73     69.75  BUY  02-12-2024 22:50            1289.488521   \n",
       "\n",
       "  event_type  closed_pnl                                            tx_hash  \\\n",
       "0        Buy         0.0  0xec09451986a1874e3a980418412fcd0201f500c95bac...   \n",
       "1        Buy         0.0  0xec09451986a1874e3a980418412fcd0201f500c95bac...   \n",
       "2        Buy         0.0  0xec09451986a1874e3a980418412fcd0201f500c95bac...   \n",
       "3        Buy         0.0  0xec09451986a1874e3a980418412fcd0201f500c95bac...   \n",
       "4        Buy         0.0  0xec09451986a1874e3a980418412fcd0201f500c95bac...   \n",
       "\n",
       "      order_id  crossed_maker_taker       fee      trade_id  timestamp_unix  \\\n",
       "0  52017706630                 True  0.345404  8.950000e+14    1.730000e+12   \n",
       "1  52017706630                 True  0.005600  4.430000e+14    1.730000e+12   \n",
       "2  52017706630                 True  0.050431  6.600000e+14    1.730000e+12   \n",
       "3  52017706630                 True  0.050043  1.080000e+15    1.730000e+12   \n",
       "4  52017706630                 True  0.003055  1.050000e+15    1.730000e+12   \n",
       "\n",
       "                 time       date  \n",
       "0 2024-10-27 03:33:20 2024-10-27  \n",
       "1 2024-10-27 03:33:20 2024-10-27  \n",
       "2 2024-10-27 03:33:20 2024-10-27  \n",
       "3 2024-10-27 03:33:20 2024-10-27  \n",
       "4 2024-10-27 03:33:20 2024-10-27  "
      ]
     },
     "execution_count": 30,
     "metadata": {},
     "output_type": "execute_result"
    }
   ],
   "source": [
    "f2_copy.head()"
   ]
  },
  {
   "cell_type": "code",
   "execution_count": 31,
   "metadata": {
    "colab": {
     "base_uri": "https://localhost:8080/"
    },
    "id": "pw01qNTPbmAf",
    "outputId": "bc1c1409-cdd4-49b0-cde0-182cc5c101b1"
   },
   "outputs": [
    {
     "name": "stdout",
     "output_type": "stream",
     "text": [
      "\n",
      "--- Exploring 'start_position_tokens' relationship with 'side' and 'pnl' (a quick look) ---\n",
      "Sample of 'Open Long' events:\n",
      "    start_position_tokens  size_tokens side  closed_pnl\n",
      "64                   0.00         7.47  BUY         0.0\n",
      "65                   7.47         9.02  BUY         0.0\n",
      "66                  16.49         7.72  BUY         0.0\n",
      "67                  24.21         3.66  BUY         0.0\n",
      "68                  27.87        15.45  BUY         0.0\n"
     ]
    }
   ],
   "source": [
    "print(\"\\n--- Exploring 'start_position_tokens' relationship with 'side' and 'pnl' (a quick look) ---\")\n",
    "print(\"Sample of 'Open Long' events:\")\n",
    "print(f2_copy[f2_copy['event_type'] == 'Open Long'][['start_position_tokens', 'size_tokens', 'side', 'closed_pnl']].head())\n"
   ]
  },
  {
   "cell_type": "code",
   "execution_count": 32,
   "metadata": {
    "colab": {
     "base_uri": "https://localhost:8080/"
    },
    "id": "2DYSwxoRhMuh",
    "outputId": "0b921ded-dd88-4c2f-df73-09d8a6ea2223"
   },
   "outputs": [
    {
     "name": "stdout",
     "output_type": "stream",
     "text": [
      "\n",
      "Sample of 'Open Short' events:\n",
      "     start_position_tokens  size_tokens  side  closed_pnl\n",
      "563                   0.00       711.15  SELL         0.0\n",
      "564                -711.15      3871.46  SELL         0.0\n",
      "565               -4582.61        10.85  SELL         0.0\n",
      "566               -4593.46      2902.07  SELL         0.0\n",
      "567               -7495.53      1573.23  SELL         0.0\n",
      "\n",
      "Sample of 'Close Long' events (expecting positive start_position_tokens, non-zero pnl):\n",
      "     start_position_tokens  size_tokens  side  closed_pnl\n",
      "142                1000.00        14.78  SELL  139.418262\n",
      "143                 985.22         8.65  SELL   81.421585\n",
      "144                 976.57        13.67  SELL  128.537643\n",
      "145                 962.90         0.06  SELL    0.563574\n",
      "146                 962.84         3.68  SELL   34.234672\n",
      "\n",
      "Sample of 'Close Short' events (expecting negative start_position_tokens, non-zero pnl):\n",
      "     start_position_tokens  size_tokens side   closed_pnl\n",
      "722              -40797.51         7.62  BUY     8.279130\n",
      "723              -40789.89       211.24  BUY   229.512260\n",
      "724              -40578.65        76.39  BUY    82.997735\n",
      "725              -40502.26       778.26  BUY   845.579490\n",
      "726              -39724.00      6926.49  BUY  7525.631385\n",
      "\n",
      "'Liquidated' not found as a distinct event_type. It might be part of other events or not explicitly logged as such.\n",
      "------------------------------------\n"
     ]
    }
   ],
   "source": [
    "print(\"\\nSample of 'Open Short' events:\")\n",
    "print(f2_copy[f2_copy['event_type'] == 'Open Short'][['start_position_tokens', 'size_tokens', 'side', 'closed_pnl']].head())\n",
    "\n",
    "print(\"\\nSample of 'Close Long' events (expecting positive start_position_tokens, non-zero pnl):\")\n",
    "print(f2_copy[f2_copy['event_type'] == 'Close Long'][['start_position_tokens', 'size_tokens', 'side', 'closed_pnl']].head())\n",
    "\n",
    "print(\"\\nSample of 'Close Short' events (expecting negative start_position_tokens, non-zero pnl):\")\n",
    "print(f2_copy[f2_copy['event_type'] == 'Close Short'][['start_position_tokens', 'size_tokens', 'side', 'closed_pnl']].head())\n",
    "\n",
    "# Checsk if 'Liquidated' is an event type\n",
    "if 'Liquidated' in unique_event:\n",
    "    print(\"\\nSample of 'Liquidated' events:\")\n",
    "    print(f2_copy[f2_copy['event_type'] == 'Liquidated'].head())\n",
    "else:\n",
    "    print(\"\\n'Liquidated' not found as a distinct event_type. It might be part of other events or not explicitly logged as such.\")\n",
    "print(\"------------------------------------\")"
   ]
  },
  {
   "cell_type": "code",
   "execution_count": 33,
   "metadata": {},
   "outputs": [
    {
     "name": "stdout",
     "output_type": "stream",
     "text": [
      "Top 5 Most Frequently Traded Symbols:\n",
      "symbol\n",
      "HYPE    68005\n",
      "@107    29992\n",
      "BTC     26064\n",
      "ETH     11158\n",
      "SOL     10691\n",
      "Name: count, dtype: int64\n"
     ]
    }
   ],
   "source": [
    "# Unique symbols and their counts\n",
    "symbol_counts = f2_copy['symbol'].value_counts()\n",
    "\n",
    "# Display the top 5 symbols\n",
    "print(\"Top 5 Most Frequently Traded Symbols:\")\n",
    "print(symbol_counts.head())\n"
   ]
  },
  {
   "cell_type": "code",
   "execution_count": 34,
   "metadata": {},
   "outputs": [
    {
     "name": "stdout",
     "output_type": "stream",
     "text": [
      "Percentage Contribution of Top 5 Symbols:\n",
      "symbol\n",
      "HYPE    32.195679\n",
      "@107    14.199144\n",
      "BTC     12.339507\n",
      "ETH      5.282544\n",
      "SOL      5.061451\n",
      "Name: count, dtype: float64\n"
     ]
    }
   ],
   "source": [
    "# Calculate percentage contribution of top symbols\n",
    "symbol_percentage = (symbol_counts / symbol_counts.sum()) * 100\n",
    "print(\"Percentage Contribution of Top 5 Symbols:\")\n",
    "print(symbol_percentage.head())\n"
   ]
  },
  {
   "cell_type": "code",
   "execution_count": 35,
   "metadata": {},
   "outputs": [
    {
     "name": "stdout",
     "output_type": "stream",
     "text": [
      "\n",
      "Top 5 Most Frequent Event Types:\n",
      "event_type\n",
      "Open Long      49895\n",
      "Close Long     48678\n",
      "Open Short     39741\n",
      "Close Short    36013\n",
      "Sell           19902\n",
      "Name: count, dtype: int64\n",
      "Percentage Contribution of Top 5 Event Types:\n",
      "event_type\n",
      "Open Long      23.621842\n",
      "Close Long     23.045677\n",
      "Open Short     18.814623\n",
      "Close Short    17.049672\n",
      "Sell            9.422225\n",
      "Name: count, dtype: float64\n"
     ]
    }
   ],
   "source": [
    "# Unique event types and their counts\n",
    "event_counts = f2_copy['event_type'].value_counts()\n",
    "\n",
    "# Display the top 5 event types\n",
    "print(\"\\nTop 5 Most Frequent Event Types:\")\n",
    "print(event_counts.head())\n",
    "\n",
    "# Calculate percentage contribution of events\n",
    "event_percentage = (event_counts / event_counts.sum()) * 100\n",
    "print(\"Percentage Contribution of Top 5 Event Types:\")\n",
    "print(event_percentage.head())\n"
   ]
  },
  {
   "cell_type": "markdown",
   "metadata": {},
   "source": [
    "# Relationship Between Symbol and Event"
   ]
  },
  {
   "cell_type": "code",
   "execution_count": 36,
   "metadata": {},
   "outputs": [
    {
     "name": "stdout",
     "output_type": "stream",
     "text": [
      "\n",
      "Top 5 Symbol-Event Combinations:\n",
      "    symbol  event_type  counts\n",
      "374   HYPE   Open Long   24837\n",
      "371   HYPE  Close Long   22849\n",
      "11    @107        Sell   17166\n",
      "10    @107         Buy   12816\n",
      "375   HYPE  Open Short   11152\n"
     ]
    }
   ],
   "source": [
    "# Group by Symbol and Event to find frequency\n",
    "symbol_event = f2_copy.groupby(['symbol', 'event_type']).size().reset_index(name='counts')\n",
    "\n",
    "# Display top combinations\n",
    "top_symbol_event = symbol_event.sort_values(by='counts', ascending=False).head(5)\n",
    "print(\"\\nTop 5 Symbol-Event Combinations:\")\n",
    "print(top_symbol_event)\n"
   ]
  },
  {
   "cell_type": "code",
   "execution_count": 37,
   "metadata": {},
   "outputs": [
    {
     "data": {
      "image/png": "[encoded data removed]",
      "text/plain": [
       "<Figure size 1200x600 with 1 Axes>"
      ]
     },
     "metadata": {},
     "output_type": "display_data"
    }
   ],
   "source": [
    "\n",
    "# Plot the relationship\n",
    "plt.figure(figsize=(12, 6))\n",
    "sns.barplot(data=top_symbol_event, x='symbol', y='counts', hue='event_type')\n",
    "plt.title(\"Top Symbol-Event Combinations\")\n",
    "plt.xlabel(\"Symbol\")\n",
    "plt.ylabel(\"Frequency\")\n",
    "plt.legend(title=\"Event Type\")\n",
    "plt.show()\n"
   ]
  },
  {
   "cell_type": "code",
   "execution_count": 38,
   "metadata": {},
   "outputs": [
    {
     "data": {
      "text/html": [
       "<div>\n",
       "<style scoped>\n",
       "    .dataframe tbody tr th:only-of-type {\n",
       "        vertical-align: middle;\n",
       "    }\n",
       "\n",
       "    .dataframe tbody tr th {\n",
       "        vertical-align: top;\n",
       "    }\n",
       "\n",
       "    .dataframe thead th {\n",
       "        text-align: right;\n",
       "    }\n",
       "</style>\n",
       "<table border=\"1\" class=\"dataframe\">\n",
       "  <thead>\n",
       "    <tr style=\"text-align: right;\">\n",
       "      <th></th>\n",
       "      <th>symbol</th>\n",
       "      <th>trade_count</th>\n",
       "      <th>avg_pnl</th>\n",
       "      <th>total_pnl</th>\n",
       "      <th>min_pnl</th>\n",
       "      <th>max_pnl</th>\n",
       "      <th>unique_events</th>\n",
       "    </tr>\n",
       "  </thead>\n",
       "  <tbody>\n",
       "    <tr>\n",
       "      <th>4</th>\n",
       "      <td>@107</td>\n",
       "      <td>29992</td>\n",
       "      <td>92.821850</td>\n",
       "      <td>2.783913e+06</td>\n",
       "      <td>-31036.691940</td>\n",
       "      <td>44223.451870</td>\n",
       "      <td>3</td>\n",
       "    </tr>\n",
       "    <tr>\n",
       "      <th>137</th>\n",
       "      <td>HYPE</td>\n",
       "      <td>68005</td>\n",
       "      <td>28.652079</td>\n",
       "      <td>1.948485e+06</td>\n",
       "      <td>-21333.468880</td>\n",
       "      <td>68959.002120</td>\n",
       "      <td>6</td>\n",
       "    </tr>\n",
       "    <tr>\n",
       "      <th>205</th>\n",
       "      <td>SOL</td>\n",
       "      <td>10691</td>\n",
       "      <td>153.358519</td>\n",
       "      <td>1.639556e+06</td>\n",
       "      <td>-35681.747230</td>\n",
       "      <td>71535.716740</td>\n",
       "      <td>6</td>\n",
       "    </tr>\n",
       "    <tr>\n",
       "      <th>120</th>\n",
       "      <td>ETH</td>\n",
       "      <td>11158</td>\n",
       "      <td>118.298874</td>\n",
       "      <td>1.319979e+06</td>\n",
       "      <td>-117990.104100</td>\n",
       "      <td>135329.090100</td>\n",
       "      <td>6</td>\n",
       "    </tr>\n",
       "    <tr>\n",
       "      <th>105</th>\n",
       "      <td>BTC</td>\n",
       "      <td>26064</td>\n",
       "      <td>33.304356</td>\n",
       "      <td>8.680447e+05</td>\n",
       "      <td>-29370.119800</td>\n",
       "      <td>19530.522500</td>\n",
       "      <td>6</td>\n",
       "    </tr>\n",
       "    <tr>\n",
       "      <th>...</th>\n",
       "      <td>...</td>\n",
       "      <td>...</td>\n",
       "      <td>...</td>\n",
       "      <td>...</td>\n",
       "      <td>...</td>\n",
       "      <td>...</td>\n",
       "      <td>...</td>\n",
       "    </tr>\n",
       "    <tr>\n",
       "      <th>181</th>\n",
       "      <td>PAXG</td>\n",
       "      <td>1265</td>\n",
       "      <td>-14.773814</td>\n",
       "      <td>-1.868887e+04</td>\n",
       "      <td>-652.149236</td>\n",
       "      <td>82.445952</td>\n",
       "      <td>2</td>\n",
       "    </tr>\n",
       "    <tr>\n",
       "      <th>143</th>\n",
       "      <td>IO</td>\n",
       "      <td>352</td>\n",
       "      <td>-62.198609</td>\n",
       "      <td>-2.189391e+04</td>\n",
       "      <td>-2806.500000</td>\n",
       "      <td>80.281560</td>\n",
       "      <td>2</td>\n",
       "    </tr>\n",
       "    <tr>\n",
       "      <th>79</th>\n",
       "      <td>ADA</td>\n",
       "      <td>581</td>\n",
       "      <td>-48.388058</td>\n",
       "      <td>-2.811346e+04</td>\n",
       "      <td>-4676.755988</td>\n",
       "      <td>669.590096</td>\n",
       "      <td>5</td>\n",
       "    </tr>\n",
       "    <tr>\n",
       "      <th>122</th>\n",
       "      <td>FARTCOIN</td>\n",
       "      <td>4650</td>\n",
       "      <td>-21.653164</td>\n",
       "      <td>-1.006872e+05</td>\n",
       "      <td>-9454.732356</td>\n",
       "      <td>2056.753900</td>\n",
       "      <td>5</td>\n",
       "    </tr>\n",
       "    <tr>\n",
       "      <th>217</th>\n",
       "      <td>TRUMP</td>\n",
       "      <td>1920</td>\n",
       "      <td>-190.012973</td>\n",
       "      <td>-3.648249e+05</td>\n",
       "      <td>-83056.320000</td>\n",
       "      <td>11448.913500</td>\n",
       "      <td>5</td>\n",
       "    </tr>\n",
       "  </tbody>\n",
       "</table>\n",
       "<p>246 rows × 7 columns</p>\n",
       "</div>"
      ],
      "text/plain": [
       "       symbol  trade_count     avg_pnl     total_pnl        min_pnl  \\\n",
       "4        @107        29992   92.821850  2.783913e+06  -31036.691940   \n",
       "137      HYPE        68005   28.652079  1.948485e+06  -21333.468880   \n",
       "205       SOL        10691  153.358519  1.639556e+06  -35681.747230   \n",
       "120       ETH        11158  118.298874  1.319979e+06 -117990.104100   \n",
       "105       BTC        26064   33.304356  8.680447e+05  -29370.119800   \n",
       "..        ...          ...         ...           ...            ...   \n",
       "181      PAXG         1265  -14.773814 -1.868887e+04    -652.149236   \n",
       "143        IO          352  -62.198609 -2.189391e+04   -2806.500000   \n",
       "79        ADA          581  -48.388058 -2.811346e+04   -4676.755988   \n",
       "122  FARTCOIN         4650  -21.653164 -1.006872e+05   -9454.732356   \n",
       "217     TRUMP         1920 -190.012973 -3.648249e+05  -83056.320000   \n",
       "\n",
       "           max_pnl  unique_events  \n",
       "4     44223.451870              3  \n",
       "137   68959.002120              6  \n",
       "205   71535.716740              6  \n",
       "120  135329.090100              6  \n",
       "105   19530.522500              6  \n",
       "..             ...            ...  \n",
       "181      82.445952              2  \n",
       "143      80.281560              2  \n",
       "79      669.590096              5  \n",
       "122    2056.753900              5  \n",
       "217   11448.913500              5  \n",
       "\n",
       "[246 rows x 7 columns]"
      ]
     },
     "execution_count": 38,
     "metadata": {},
     "output_type": "execute_result"
    }
   ],
   "source": [
    "# Analyze the 'symbol' column from the trader dataset\n",
    "symbol_analysis = f2_copy.groupby('symbol').agg({\n",
    "    'closed_pnl': ['count', 'mean', 'sum', 'min', 'max'],  # Stats for PnL\n",
    "    'event_type': 'nunique'  # Unique events per symbol\n",
    "}).reset_index()\n",
    "\n",
    "# Rename columns for clarity\n",
    "symbol_analysis.columns = ['symbol', 'trade_count', 'avg_pnl', 'total_pnl', 'min_pnl', 'max_pnl', 'unique_events']\n",
    "\n",
    "# Display the analysis sorted by total_pnl in descending order\n",
    "symbol_analysis_sorted = symbol_analysis.sort_values(by='total_pnl', ascending=False)\n",
    "symbol_analysis_sorted\n"
   ]
  },
  {
   "cell_type": "code",
   "execution_count": 39,
   "metadata": {},
   "outputs": [
    {
     "name": "stderr",
     "output_type": "stream",
     "text": [
      "C:\\Users\\krishna\\AppData\\Local\\Temp\\ipykernel_3236\\4155648521.py:7: FutureWarning: \n",
      "\n",
      "Passing `palette` without assigning `hue` is deprecated and will be removed in v0.14.0. Assign the `x` variable to `hue` and set `legend=False` for the same effect.\n",
      "\n",
      "  sns.barplot(data=top_10_symbols, x='symbol', y='total_pnl', palette='viridis')\n"
     ]
    },
    {
     "data": {
      "image/png": "[encoded data removed]",
      "text/plain": [
       "<Figure size 1200x600 with 1 Axes>"
      ]
     },
     "metadata": {},
     "output_type": "display_data"
    },
    {
     "name": "stderr",
     "output_type": "stream",
     "text": [
      "C:\\Users\\krishna\\AppData\\Local\\Temp\\ipykernel_3236\\4155648521.py:17: FutureWarning: \n",
      "\n",
      "Passing `palette` without assigning `hue` is deprecated and will be removed in v0.14.0. Assign the `x` variable to `hue` and set `legend=False` for the same effect.\n",
      "\n",
      "  sns.barplot(data=bottom_10_symbols, x='symbol', y='total_pnl', palette='rocket')\n"
     ]
    },
    {
     "data": {
      "image/png": "[encoded data removed]",
      "text/plain": [
       "<Figure size 1200x600 with 1 Axes>"
      ]
     },
     "metadata": {},
     "output_type": "display_data"
    }
   ],
   "source": [
    "import seaborn as sns\n",
    "import matplotlib.pyplot as plt\n",
    "\n",
    "# Top 10 Symbols Bar Chart\n",
    "top_10_symbols = symbol_analysis_sorted.head(10)\n",
    "plt.figure(figsize=(12, 6))\n",
    "sns.barplot(data=top_10_symbols, x='symbol', y='total_pnl', palette='viridis')\n",
    "plt.title(\"Top 10 Symbols by Total PnL\")\n",
    "plt.xlabel(\"Symbol\")\n",
    "plt.ylabel(\"Total PnL\")\n",
    "plt.xticks(rotation=45)\n",
    "plt.show()\n",
    "\n",
    "# Bottom 10 Symbols Bar Chart\n",
    "bottom_10_symbols = symbol_analysis_sorted.tail(10)\n",
    "plt.figure(figsize=(12, 6))\n",
    "sns.barplot(data=bottom_10_symbols, x='symbol', y='total_pnl', palette='rocket')\n",
    "plt.title(\"Bottom 10 Symbols by Total PnL\")\n",
    "plt.xlabel(\"Symbol\")\n",
    "plt.ylabel(\"Total PnL\")\n",
    "plt.xticks(rotation=45)\n",
    "plt.show()\n"
   ]
  },
  {
   "cell_type": "markdown",
   "metadata": {},
   "source": [
    "# Merging Processed Trader Data with Sentiment Data"
   ]
  },
  {
   "cell_type": "markdown",
   "metadata": {},
   "source": [
    "With both the Bitcoin-specific trader data (f2_copy) and the market sentiment data (sentiment_df) prepared, the next crucial step is to merge them. This will allow each Bitcoin trade record to be annotated with the corresponding market sentiment on the day the trade event occurred.\n",
    "\n",
    "The merge is performed using the date column present in f2_copy and the date index of sentiment_df. A left merge ensures that all Bitcoin trade records are kept, and sentiment information is added where available."
   ]
  },
  {
   "cell_type": "code",
   "execution_count": 43,
   "metadata": {},
   "outputs": [
    {
     "name": "stdout",
     "output_type": "stream",
     "text": [
      "Merged Data:\n",
      "                                      account symbol  execution_price  \\\n",
      "0  0xae5eacaf9c6b9111fd53034a602c192a04e082ed   @107           7.9769   \n",
      "1  0xae5eacaf9c6b9111fd53034a602c192a04e082ed   @107           7.9800   \n",
      "2  0xae5eacaf9c6b9111fd53034a602c192a04e082ed   @107           7.9855   \n",
      "3  0xae5eacaf9c6b9111fd53034a602c192a04e082ed   @107           7.9874   \n",
      "4  0xae5eacaf9c6b9111fd53034a602c192a04e082ed   @107           7.9894   \n",
      "\n",
      "   size_tokens  size_usd side          time_ist  start_position_tokens  \\\n",
      "0       986.87   7872.16  BUY  02-12-2024 22:50               0.000000   \n",
      "1        16.00    127.68  BUY  02-12-2024 22:50             986.524596   \n",
      "2       144.09   1150.63  BUY  02-12-2024 22:50            1002.518996   \n",
      "3       142.98   1142.04  BUY  02-12-2024 22:50            1146.558564   \n",
      "4         8.73     69.75  BUY  02-12-2024 22:50            1289.488521   \n",
      "\n",
      "  event_type  closed_pnl  ...     order_id  crossed_maker_taker       fee  \\\n",
      "0        Buy         0.0  ...  52017706630                 True  0.345404   \n",
      "1        Buy         0.0  ...  52017706630                 True  0.005600   \n",
      "2        Buy         0.0  ...  52017706630                 True  0.050431   \n",
      "3        Buy         0.0  ...  52017706630                 True  0.050043   \n",
      "4        Buy         0.0  ...  52017706630                 True  0.003055   \n",
      "\n",
      "       trade_id  timestamp_unix                time       date     timestamp  \\\n",
      "0  8.950000e+14    1.730000e+12 2024-10-27 03:33:20 2024-10-27  1.730007e+09   \n",
      "1  4.430000e+14    1.730000e+12 2024-10-27 03:33:20 2024-10-27  1.730007e+09   \n",
      "2  6.600000e+14    1.730000e+12 2024-10-27 03:33:20 2024-10-27  1.730007e+09   \n",
      "3  1.080000e+15    1.730000e+12 2024-10-27 03:33:20 2024-10-27  1.730007e+09   \n",
      "4  1.050000e+15    1.730000e+12 2024-10-27 03:33:20 2024-10-27  1.730007e+09   \n",
      "\n",
      "   value  classification  \n",
      "0   74.0           Greed  \n",
      "1   74.0           Greed  \n",
      "2   74.0           Greed  \n",
      "3   74.0           Greed  \n",
      "4   74.0           Greed  \n",
      "\n",
      "[5 rows x 21 columns]\n"
     ]
    }
   ],
   "source": [
    "# Merge the trader and sentiment data on 'date'\n",
    "merged_data = pd.merge(\n",
    "    f2_copy,\n",
    "    f1,\n",
    "    on='date',  # Common column for merging\n",
    "    how='left'  # Retain all trader data, even if sentiment data is missing\n",
    ")\n",
    "\n",
    "# Display the first few rows of the merged dataset\n",
    "print(\"Merged Data:\")\n",
    "print(merged_data.head())\n"
   ]
  },
  {
   "cell_type": "code",
   "execution_count": 46,
   "metadata": {},
   "outputs": [
    {
     "data": {
      "text/plain": [
       "Index(['account', 'symbol', 'execution_price', 'size_tokens', 'size_usd',\n",
       "       'side', 'time_ist', 'start_position_tokens', 'event_type', 'closed_pnl',\n",
       "       'tx_hash', 'order_id', 'crossed_maker_taker', 'fee', 'trade_id',\n",
       "       'timestamp_unix', 'time', 'date', 'timestamp', 'value',\n",
       "       'classification'],\n",
       "      dtype='object')"
      ]
     },
     "execution_count": 46,
     "metadata": {},
     "output_type": "execute_result"
    }
   ],
   "source": [
    "merged_data.columns"
   ]
  },
  {
   "cell_type": "code",
   "execution_count": 47,
   "metadata": {},
   "outputs": [
    {
     "name": "stdout",
     "output_type": "stream",
     "text": [
      "<class 'pandas.core.frame.DataFrame'>\n",
      "RangeIndex: 211224 entries, 0 to 211223\n",
      "Data columns (total 21 columns):\n",
      " #   Column                 Non-Null Count   Dtype         \n",
      "---  ------                 --------------   -----         \n",
      " 0   account                211224 non-null  object        \n",
      " 1   symbol                 211224 non-null  object        \n",
      " 2   execution_price        211224 non-null  float64       \n",
      " 3   size_tokens            211224 non-null  float64       \n",
      " 4   size_usd               211224 non-null  float64       \n",
      " 5   side                   211224 non-null  object        \n",
      " 6   time_ist               211224 non-null  object        \n",
      " 7   start_position_tokens  211224 non-null  float64       \n",
      " 8   event_type             211224 non-null  object        \n",
      " 9   closed_pnl             211224 non-null  float64       \n",
      " 10  tx_hash                211224 non-null  object        \n",
      " 11  order_id               211224 non-null  int64         \n",
      " 12  crossed_maker_taker    211224 non-null  bool          \n",
      " 13  fee                    211224 non-null  float64       \n",
      " 14  trade_id               211224 non-null  float64       \n",
      " 15  timestamp_unix         211224 non-null  float64       \n",
      " 16  time                   211224 non-null  datetime64[ns]\n",
      " 17  date                   211224 non-null  datetime64[ns]\n",
      " 18  timestamp              184263 non-null  float64       \n",
      " 19  value                  184263 non-null  float64       \n",
      " 20  classification         184263 non-null  object        \n",
      "dtypes: bool(1), datetime64[ns](2), float64(10), int64(1), object(7)\n",
      "memory usage: 32.4+ MB\n"
     ]
    }
   ],
   "source": [
    "merged_data.info()"
   ]
  },
  {
   "cell_type": "code",
   "execution_count": 48,
   "metadata": {},
   "outputs": [
    {
     "data": {
      "text/plain": [
       "account                      0\n",
       "symbol                       0\n",
       "execution_price              0\n",
       "size_tokens                  0\n",
       "size_usd                     0\n",
       "side                         0\n",
       "time_ist                     0\n",
       "start_position_tokens        0\n",
       "event_type                   0\n",
       "closed_pnl                   0\n",
       "tx_hash                      0\n",
       "order_id                     0\n",
       "crossed_maker_taker          0\n",
       "fee                          0\n",
       "trade_id                     0\n",
       "timestamp_unix               0\n",
       "time                         0\n",
       "date                         0\n",
       "timestamp                26961\n",
       "value                    26961\n",
       "classification           26961\n",
       "dtype: int64"
      ]
     },
     "execution_count": 48,
     "metadata": {},
     "output_type": "execute_result"
    }
   ],
   "source": [
    "merged_data.isnull().sum()"
   ]
  },
  {
   "cell_type": "markdown",
   "metadata": {},
   "source": [
    "Handling of Missing Sentiment Data: * A total of 6,121 rows in merged_data have missing sentiment data (e.g., classification is null). * This is expected, as the trader data extends to June 15, 2025, while the sentiment data ends on May 2, 2025. Trades occurring after May 2, 2025, will not have corresponding sentiment information. * For the subsequent exploratory data analysis focusing on sentiment's impact, only rows with available sentiment data will be used."
   ]
  },
  {
   "cell_type": "markdown",
   "metadata": {},
   "source": [
    "# Exploratory Data Analysis (EDA) with Your Dataset"
   ]
  },
  {
   "cell_type": "markdown",
   "metadata": {},
   "source": [
    "Analysis-Ready DataFrame (df_analysis)\n",
    "Filter merged_df to include only rows where sentiment data (classification and value) is available."
   ]
  },
  {
   "cell_type": "code",
   "execution_count": 59,
   "metadata": {},
   "outputs": [
    {
     "name": "stdout",
     "output_type": "stream",
     "text": [
      "Shape of df_analysis: (184263, 21)\n",
      "                                      account symbol  execution_price  \\\n",
      "0  0xae5eacaf9c6b9111fd53034a602c192a04e082ed   @107           7.9769   \n",
      "1  0xae5eacaf9c6b9111fd53034a602c192a04e082ed   @107           7.9800   \n",
      "2  0xae5eacaf9c6b9111fd53034a602c192a04e082ed   @107           7.9855   \n",
      "3  0xae5eacaf9c6b9111fd53034a602c192a04e082ed   @107           7.9874   \n",
      "4  0xae5eacaf9c6b9111fd53034a602c192a04e082ed   @107           7.9894   \n",
      "\n",
      "   size_tokens  size_usd side          time_ist  start_position_tokens  \\\n",
      "0       986.87   7872.16  BUY  02-12-2024 22:50               0.000000   \n",
      "1        16.00    127.68  BUY  02-12-2024 22:50             986.524596   \n",
      "2       144.09   1150.63  BUY  02-12-2024 22:50            1002.518996   \n",
      "3       142.98   1142.04  BUY  02-12-2024 22:50            1146.558564   \n",
      "4         8.73     69.75  BUY  02-12-2024 22:50            1289.488521   \n",
      "\n",
      "  event_type  closed_pnl  ...     order_id  crossed_maker_taker       fee  \\\n",
      "0        Buy         0.0  ...  52017706630                 True  0.345404   \n",
      "1        Buy         0.0  ...  52017706630                 True  0.005600   \n",
      "2        Buy         0.0  ...  52017706630                 True  0.050431   \n",
      "3        Buy         0.0  ...  52017706630                 True  0.050043   \n",
      "4        Buy         0.0  ...  52017706630                 True  0.003055   \n",
      "\n",
      "       trade_id  timestamp_unix                time       date     timestamp  \\\n",
      "0  8.950000e+14    1.730000e+12 2024-10-27 03:33:20 2024-10-27  1.730007e+09   \n",
      "1  4.430000e+14    1.730000e+12 2024-10-27 03:33:20 2024-10-27  1.730007e+09   \n",
      "2  6.600000e+14    1.730000e+12 2024-10-27 03:33:20 2024-10-27  1.730007e+09   \n",
      "3  1.080000e+15    1.730000e+12 2024-10-27 03:33:20 2024-10-27  1.730007e+09   \n",
      "4  1.050000e+15    1.730000e+12 2024-10-27 03:33:20 2024-10-27  1.730007e+09   \n",
      "\n",
      "   value  classification  \n",
      "0   74.0           Greed  \n",
      "1   74.0           Greed  \n",
      "2   74.0           Greed  \n",
      "3   74.0           Greed  \n",
      "4   74.0           Greed  \n",
      "\n",
      "[5 rows x 21 columns]\n"
     ]
    }
   ],
   "source": [
    "# Filter for rows with available sentiment data\n",
    "df_analysis = merged_data.dropna(subset=['classification', 'value'])\n",
    "\n",
    "# Display the shape and check the first few rows\n",
    "print(f\"Shape of df_analysis: {df_analysis.shape}\")\n",
    "print(df_analysis.head())\n"
   ]
  },
  {
   "cell_type": "markdown",
   "metadata": {},
   "source": [
    "PnL-Realizing Events (df_pnl_events)\n",
    "Filter df_analysis for PnL-realizing events (Close Long, Close Short, Liquidated Isolated Short)."
   ]
  },
  {
   "cell_type": "code",
   "execution_count": 56,
   "metadata": {},
   "outputs": [
    {
     "name": "stdout",
     "output_type": "stream",
     "text": [
      "Shape of df_pnl_events: (73026, 21)\n",
      "                                        account symbol  execution_price  \\\n",
      "142  0xae5eacaf9c6b9111fd53034a602c192a04e082ed   AAVE           242.49   \n",
      "143  0xae5eacaf9c6b9111fd53034a602c192a04e082ed   AAVE           242.47   \n",
      "144  0xae5eacaf9c6b9111fd53034a602c192a04e082ed   AAVE           242.46   \n",
      "145  0xae5eacaf9c6b9111fd53034a602c192a04e082ed   AAVE           242.45   \n",
      "146  0xae5eacaf9c6b9111fd53034a602c192a04e082ed   AAVE           242.36   \n",
      "\n",
      "     size_tokens  size_usd  side          time_ist  start_position_tokens  \\\n",
      "142        14.78   3584.00  SELL  03-12-2024 20:56                1000.00   \n",
      "143         8.65   2097.37  SELL  03-12-2024 20:56                 985.22   \n",
      "144        13.67   3314.43  SELL  03-12-2024 20:56                 976.57   \n",
      "145         0.06     14.55  SELL  03-12-2024 20:56                 962.90   \n",
      "146         3.68    891.88  SELL  03-12-2024 20:56                 962.84   \n",
      "\n",
      "     event_type  closed_pnl  ...     order_id  crossed_maker_taker       fee  \\\n",
      "142  Close Long  139.418262  ...  52305625381                 True  1.254400   \n",
      "143  Close Long   81.421585  ...  52305625381                 True  0.734077   \n",
      "144  Close Long  128.537643  ...  52305625381                 True  1.160049   \n",
      "145  Close Long    0.563574  ...  52305625381                 True  0.005091   \n",
      "146  Close Long   34.234672  ...  52305625381                 True  0.312159   \n",
      "\n",
      "         trade_id  timestamp_unix                time       date  \\\n",
      "142  2.380000e+14    1.730000e+12 2024-10-27 03:33:20 2024-10-27   \n",
      "143  4.160000e+14    1.730000e+12 2024-10-27 03:33:20 2024-10-27   \n",
      "144  1.120000e+15    1.730000e+12 2024-10-27 03:33:20 2024-10-27   \n",
      "145  5.980000e+13    1.730000e+12 2024-10-27 03:33:20 2024-10-27   \n",
      "146  6.480000e+14    1.730000e+12 2024-10-27 03:33:20 2024-10-27   \n",
      "\n",
      "        timestamp  value  classification  \n",
      "142  1.730007e+09   74.0           Greed  \n",
      "143  1.730007e+09   74.0           Greed  \n",
      "144  1.730007e+09   74.0           Greed  \n",
      "145  1.730007e+09   74.0           Greed  \n",
      "146  1.730007e+09   74.0           Greed  \n",
      "\n",
      "[5 rows x 21 columns]\n"
     ]
    }
   ],
   "source": [
    "# Define PnL-realizing events\n",
    "pnl_events = ['Close Long', 'Close Short', 'Liquidated Isolated Short']\n",
    "\n",
    "# Filter for PnL-realizing events\n",
    "df_pnl_events = df_analysis[df_analysis['event_type'].isin(pnl_events)]\n",
    "\n",
    "# Display the shape and check the first few rows\n",
    "print(f\"Shape of df_pnl_events: {df_pnl_events.shape}\")\n",
    "print(df_pnl_events.head())\n"
   ]
  },
  {
   "cell_type": "code",
   "execution_count": 58,
   "metadata": {},
   "outputs": [
    {
     "name": "stderr",
     "output_type": "stream",
     "text": [
      "C:\\Users\\krishna\\AppData\\Local\\Temp\\ipykernel_3236\\674501019.py:3: FutureWarning: \n",
      "\n",
      "Passing `palette` without assigning `hue` is deprecated and will be removed in v0.14.0. Assign the `x` variable to `hue` and set `legend=False` for the same effect.\n",
      "\n",
      "  sns.countplot(data=df_pnl_events, x='classification', palette='viridis')\n"
     ]
    },
    {
     "data": {
      "image/png": "[encoded data removed]",
      "text/plain": [
       "<Figure size 800x500 with 1 Axes>"
      ]
     },
     "metadata": {},
     "output_type": "display_data"
    }
   ],
   "source": [
    "\n",
    "\n",
    "# Plot sentiment classification distribution\n",
    "plt.figure(figsize=(8, 5))\n",
    "sns.countplot(data=df_pnl_events, x='classification', palette='viridis')\n",
    "plt.title(\"Sentiment Classification Distribution (PnL-Realizing Events)\")\n",
    "plt.xlabel(\"Sentiment Classification\")\n",
    "plt.ylabel(\"Count\")\n",
    "plt.show()\n"
   ]
  },
  {
   "cell_type": "code",
   "execution_count": 60,
   "metadata": {},
   "outputs": [
    {
     "data": {
      "image/png": "[encoded data removed]",
      "text/plain": [
       "<Figure size 800x500 with 1 Axes>"
      ]
     },
     "metadata": {},
     "output_type": "display_data"
    }
   ],
   "source": [
    "# Plot sentiment value distribution\n",
    "plt.figure(figsize=(8, 5))\n",
    "sns.histplot(df_pnl_events['value'], bins=30, kde=True, color='blue')\n",
    "plt.title(\"Sentiment Value Distribution (PnL-Realizing Events)\")\n",
    "plt.xlabel(\"Sentiment Value\")\n",
    "plt.ylabel(\"Frequency\")\n",
    "plt.show()\n"
   ]
  },
  {
   "cell_type": "raw",
   "metadata": {},
   "source": [
    "Assessing Overall Trader Performance\n",
    "A. Summary Statistics\n",
    "Calculate key performance indicators:\n",
    "\n",
    "Total PnL\n",
    "\n",
    "Average PnL\n",
    "\n",
    "Win Rate (% profitable trades)"
   ]
  },
  {
   "cell_type": "code",
   "execution_count": 61,
   "metadata": {},
   "outputs": [
    {
     "name": "stdout",
     "output_type": "stream",
     "text": [
      "Total PnL: 7268249.376054\n",
      "Average PnL: 99.5296110433818\n",
      "Win Rate: 86.17%\n"
     ]
    }
   ],
   "source": [
    "# Calculate total PnL, average PnL, and win rate\n",
    "total_pnl = df_pnl_events['closed_pnl'].sum()\n",
    "average_pnl = df_pnl_events['closed_pnl'].mean()\n",
    "win_rate = (df_pnl_events['closed_pnl'] > 0).mean() * 100\n",
    "\n",
    "# Display the metrics\n",
    "print(f\"Total PnL: {total_pnl}\")\n",
    "print(f\"Average PnL: {average_pnl}\")\n",
    "print(f\"Win Rate: {win_rate:.2f}%\")\n"
   ]
  },
  {
   "cell_type": "code",
   "execution_count": 62,
   "metadata": {},
   "outputs": [
    {
     "name": "stderr",
     "output_type": "stream",
     "text": [
      "C:\\Users\\krishna\\AppData\\Local\\Temp\\ipykernel_3236\\778883339.py:8: FutureWarning: \n",
      "\n",
      "Passing `palette` without assigning `hue` is deprecated and will be removed in v0.14.0. Assign the `x` variable to `hue` and set `legend=False` for the same effect.\n",
      "\n",
      "  sns.barplot(data=sentiment_pnl, x='classification', y='closed_pnl', palette='coolwarm')\n"
     ]
    },
    {
     "data": {
      "image/png": "[encoded data removed]",
      "text/plain": [
       "<Figure size 800x500 with 1 Axes>"
      ]
     },
     "metadata": {},
     "output_type": "display_data"
    }
   ],
   "source": [
    "# Performance by Sentiment\n",
    "# Visualize closed_pnl under each sentiment classification.\n",
    "# Group by sentiment classification and calculate average PnL\n",
    "sentiment_pnl = df_pnl_events.groupby('classification')['closed_pnl'].mean().reset_index()\n",
    "\n",
    "# Plot average PnL by sentiment\n",
    "plt.figure(figsize=(8, 5))\n",
    "sns.barplot(data=sentiment_pnl, x='classification', y='closed_pnl', palette='coolwarm')\n",
    "plt.title(\"Average PnL by Sentiment Classification\")\n",
    "plt.xlabel(\"Sentiment Classification\")\n",
    "plt.ylabel(\"Average Closed PnL\")\n",
    "plt.show()\n"
   ]
  },
  {
   "cell_type": "code",
   "execution_count": 63,
   "metadata": {},
   "outputs": [
    {
     "name": "stdout",
     "output_type": "stream",
     "text": [
      "Total 'Fear' Trades: 133871\n",
      "                                        account symbol  execution_price  \\\n",
      "190  0xae5eacaf9c6b9111fd53034a602c192a04e082ed   DYDX          0.60975   \n",
      "191  0xae5eacaf9c6b9111fd53034a602c192a04e082ed   DYDX          0.60975   \n",
      "192  0xae5eacaf9c6b9111fd53034a602c192a04e082ed   DYDX          0.60976   \n",
      "193  0xae5eacaf9c6b9111fd53034a602c192a04e082ed   DYDX          0.60981   \n",
      "194  0xae5eacaf9c6b9111fd53034a602c192a04e082ed   DYDX          0.61007   \n",
      "\n",
      "     size_tokens  size_usd side          time_ist  start_position_tokens  \\\n",
      "190       2834.9   1728.58  BUY  04-03-2025 23:23                    0.0   \n",
      "191        190.9    116.40  BUY  04-03-2025 23:23                 2834.9   \n",
      "192       2818.6   1718.67  BUY  04-03-2025 23:23                 3025.8   \n",
      "193       3689.6   2249.95  BUY  04-03-2025 23:23                 5844.4   \n",
      "194       3688.1   2250.00  BUY  04-03-2025 23:23                 9534.0   \n",
      "\n",
      "    event_type  closed_pnl  ...     order_id  crossed_maker_taker       fee  \\\n",
      "190  Open Long         0.0  ...  77138632929                 True  0.580802   \n",
      "191  Open Long         0.0  ...  77138632929                 True  0.039110   \n",
      "192  Open Long         0.0  ...  77138632929                 True  0.577472   \n",
      "193  Open Long         0.0  ...  77138632929                 True  0.755984   \n",
      "194  Open Long         0.0  ...  77138632929                 True  0.755999   \n",
      "\n",
      "         trade_id  timestamp_unix                time       date  \\\n",
      "190  9.810000e+14    1.740000e+12 2025-02-19 21:20:00 2025-02-19   \n",
      "191  8.320000e+14    1.740000e+12 2025-02-19 21:20:00 2025-02-19   \n",
      "192  7.030000e+14    1.740000e+12 2025-02-19 21:20:00 2025-02-19   \n",
      "193  8.730000e+14    1.740000e+12 2025-02-19 21:20:00 2025-02-19   \n",
      "194  9.680000e+14    1.740000e+12 2025-02-19 21:20:00 2025-02-19   \n",
      "\n",
      "        timestamp  value  classification  \n",
      "190  1.739943e+09   44.0            Fear  \n",
      "191  1.739943e+09   44.0            Fear  \n",
      "192  1.739943e+09   44.0            Fear  \n",
      "193  1.739943e+09   44.0            Fear  \n",
      "194  1.739943e+09   44.0            Fear  \n",
      "\n",
      "[5 rows x 21 columns]\n"
     ]
    }
   ],
   "source": [
    "# Filter for trades classified as 'Fear'\n",
    "fear_trades = df_analysis[df_analysis['classification'] == 'Fear']\n",
    "\n",
    "# Display the shape and first few rows\n",
    "print(f\"Total 'Fear' Trades: {fear_trades.shape[0]}\")\n",
    "print(fear_trades.head())\n"
   ]
  },
  {
   "cell_type": "code",
   "execution_count": 64,
   "metadata": {},
   "outputs": [
    {
     "data": {
      "image/png": "[encoded data removed]",
      "text/plain": [
       "<Figure size 800x500 with 1 Axes>"
      ]
     },
     "metadata": {},
     "output_type": "display_data"
    }
   ],
   "source": [
    "\n",
    "\n",
    "# Plot the distribution of numerical sentiment values for 'Fear'\n",
    "plt.figure(figsize=(8, 5))\n",
    "sns.histplot(fear_trades['value'], bins=20, kde=True, color='orange')\n",
    "plt.title(\"Distribution of Sentiment Values for 'Fear' Trades\")\n",
    "plt.xlabel(\"Sentiment Value\")\n",
    "plt.ylabel(\"Frequency\")\n",
    "plt.show()\n"
   ]
  },
  {
   "cell_type": "code",
   "execution_count": 65,
   "metadata": {},
   "outputs": [
    {
     "data": {
      "image/png": "[encoded data removed]",
      "text/plain": [
       "<Figure size 800x500 with 1 Axes>"
      ]
     },
     "metadata": {},
     "output_type": "display_data"
    },
    {
     "name": "stdout",
     "output_type": "stream",
     "text": [
      "value\n",
      "(0, 20]          0\n",
      "(20, 40]         0\n",
      "(40, 60]     56787\n",
      "(60, 80]         0\n",
      "(80, 100]        0\n",
      "Name: value, dtype: int64\n"
     ]
    },
    {
     "name": "stderr",
     "output_type": "stream",
     "text": [
      "C:\\Users\\krishna\\AppData\\Local\\Temp\\ipykernel_3236\\321009564.py:16: FutureWarning: The default of observed=False is deprecated and will be changed to True in a future version of pandas. Pass observed=False to retain current behavior or observed=True to adopt the future default and silence this warning.\n",
      "  print(pnl_events_fear['value'].groupby(value_bins).count())\n"
     ]
    }
   ],
   "source": [
    "# Analyzing PnL-Realizing Events\n",
    "# Further filter fear_trades to include only PnL-realizing events and check the distribution of value.\n",
    "# Filter for PnL-realizing events within 'Fear' trades\n",
    "pnl_events_fear = fear_trades[fear_trades['event_type'].isin(['Close Long', 'Close Short', 'Liquidated Isolated Short'])]\n",
    "\n",
    "# Display the distribution of sentiment values for these events\n",
    "plt.figure(figsize=(8, 5))\n",
    "sns.histplot(pnl_events_fear['value'], bins=20, kde=True, color='purple')\n",
    "plt.title(\"Distribution of Sentiment Values for PnL-Realizing 'Fear' Trades\")\n",
    "plt.xlabel(\"Sentiment Value\")\n",
    "plt.ylabel(\"Frequency\")\n",
    "plt.show()\n",
    "\n",
    "# Check counts for specific value ranges\n",
    "value_bins = pd.cut(pnl_events_fear['value'], bins=[0, 20, 40, 60, 80, 100])\n",
    "print(pnl_events_fear['value'].groupby(value_bins).count())\n"
   ]
  },
  {
   "cell_type": "code",
   "execution_count": 67,
   "metadata": {},
   "outputs": [
    {
     "name": "stdout",
     "output_type": "stream",
     "text": [
      "Total 'Fear' Trades in 21-40 Range: 0\n",
      "PnL-Realizing 'Fear' Trades in 21-40 Range: 0\n"
     ]
    }
   ],
   "source": [
    "#  Investigate Missing '21-40 (Fear)' PnL-Realizing Trades\n",
    "# Check if there are trades with 21-40 sentiment values classified as 'Fear', but they are non-PnL-realizing.\n",
    "\n",
    "# Filter for 'Fear' trades with sentiment values in the '21-40' range\n",
    "fear_21_40 = fear_trades[(fear_trades['value'] > 20) & (fear_trades['value'] <= 40)]\n",
    "\n",
    "# Count total and PnL-realizing trades in this range\n",
    "total_fear_21_40 = fear_21_40.shape[0]\n",
    "pnl_fear_21_40 = fear_21_40[fear_21_40['event_type'].isin(['Close Long', 'Close Short', 'Liquidated Isolated Short'])].shape[0]\n",
    "\n",
    "print(f\"Total 'Fear' Trades in 21-40 Range: {total_fear_21_40}\")\n",
    "print(f\"PnL-Realizing 'Fear' Trades in 21-40 Range: {pnl_fear_21_40}\")\n"
   ]
  },
  {
   "cell_type": "markdown",
   "metadata": {},
   "source": [
    "Expected Insights\n",
    "Sentiment Value Distribution:\n",
    "\n",
    "The distribution of numerical value for all trades classified as 'Fear'.\n",
    "\n",
    "Whether certain ranges (e.g., 21-40) are underrepresented.\n",
    "\n",
    "PnL-Realizing Events:\n",
    "\n",
    "The numerical sentiment value distribution for trades with Close Long, Close Short, or Liquidated Isolated Short.\n",
    "\n",
    "Missing PnL Trades in 21-40 Range:\n",
    "\n",
    "Whether 21-40 trades classified as 'Fear' exist but are not PnL-realizing.\n",
    "\n"
   ]
  },
  {
   "cell_type": "code",
   "execution_count": 68,
   "metadata": {},
   "outputs": [
    {
     "name": "stdout",
     "output_type": "stream",
     "text": [
      "Descriptive Statistics for Sentiment 'Fear':\n",
      "count    133871.0\n",
      "mean         44.0\n",
      "std           0.0\n",
      "min          44.0\n",
      "25%          44.0\n",
      "50%          44.0\n",
      "75%          44.0\n",
      "max          44.0\n",
      "Name: value, dtype: float64\n",
      "\n",
      "Unique Numerical Values for 'Fear': [44.]\n",
      "All 'Fear' trades have the same sentiment value: 44.0\n"
     ]
    },
    {
     "data": {
      "image/png": "[encoded data removed]",
      "text/plain": [
       "<Figure size 800x500 with 1 Axes>"
      ]
     },
     "metadata": {},
     "output_type": "display_data"
    },
    {
     "name": "stdout",
     "output_type": "stream",
     "text": [
      "\n",
      "PnL-Realizing 'Fear' Trades by Numerical Sentiment Range:\n",
      "value\n",
      "(0, 20]          0\n",
      "(20, 40]         0\n",
      "(40, 60]     56787\n",
      "(60, 80]         0\n",
      "(80, 100]        0\n",
      "Name: value, dtype: int64\n"
     ]
    },
    {
     "name": "stderr",
     "output_type": "stream",
     "text": [
      "C:\\Users\\krishna\\AppData\\Local\\Temp\\ipykernel_3236\\3489617445.py:34: FutureWarning: The default of observed=False is deprecated and will be changed to True in a future version of pandas. Pass observed=False to retain current behavior or observed=True to adopt the future default and silence this warning.\n",
      "  pnl_event_bin_counts = pnl_events_fear['value'].groupby(value_bins).count()\n"
     ]
    }
   ],
   "source": [
    "#  Investigating the Numerical Value of 'Fear'\n",
    "\n",
    "# Step 1: Filter for 'Fear' Trades\n",
    "fear_trades = df_analysis[df_analysis['classification'] == 'Fear']\n",
    "\n",
    "# Step 2: Descriptive Statistics for Sentiment 'value'\n",
    "fear_value_stats = fear_trades['value'].describe()\n",
    "print(\"Descriptive Statistics for Sentiment 'Fear':\")\n",
    "print(fear_value_stats)\n",
    "\n",
    "# Step 3: Check if all values are the same\n",
    "unique_fear_values = fear_trades['value'].unique()\n",
    "print(\"\\nUnique Numerical Values for 'Fear':\", unique_fear_values)\n",
    "\n",
    "if len(unique_fear_values) == 1:\n",
    "    print(f\"All 'Fear' trades have the same sentiment value: {unique_fear_values[0]}\")\n",
    "\n",
    "# Step 4: Visualization - Histogram of Sentiment 'value'\n",
    "plt.figure(figsize=(8, 5))\n",
    "sns.histplot(fear_trades['value'], bins=10, kde=False, color='orange')\n",
    "plt.title(\"Distribution of Sentiment 'value' for Trades Classified as 'Fear'\")\n",
    "plt.xlabel(\"Sentiment Value\")\n",
    "plt.ylabel(\"Frequency\")\n",
    "plt.xticks(range(int(fear_value_stats['min']), int(fear_value_stats['max']) + 1))\n",
    "plt.show()\n",
    "\n",
    "# Step 5: Confirm PnL-Realizing Events and Sentiment Range\n",
    "pnl_events_fear = fear_trades[fear_trades['event_type'].isin(['Close Long', 'Close Short', 'Liquidated Isolated Short'])]\n",
    "value_bins = pd.cut(pnl_events_fear['value'], bins=[0, 20, 40, 60, 80, 100])\n",
    "\n",
    "# Count the number of trades in each bin\n",
    "pnl_event_bin_counts = pnl_events_fear['value'].groupby(value_bins).count()\n",
    "print(\"\\nPnL-Realizing 'Fear' Trades by Numerical Sentiment Range:\")\n",
    "print(pnl_event_bin_counts)\n"
   ]
  },
  {
   "cell_type": "code",
   "execution_count": 69,
   "metadata": {},
   "outputs": [
    {
     "name": "stdout",
     "output_type": "stream",
     "text": [
      "Trader Behavior by Sentiment:\n",
      "       Sentiment     Total_PnL  Average_PnL  Trade_Count\n",
      "0  Extreme Greed  1.769655e+05    25.418772         6962\n",
      "1           Fear  6.699925e+06    50.047622       133871\n",
      "2          Greed  3.189617e+06    87.894859        36289\n",
      "3        Neutral  1.587424e+05    22.229713         7141\n"
     ]
    }
   ],
   "source": [
    "# Aggregate by sentiment classification\n",
    "sentiment_analysis = df_analysis.groupby('classification').agg({\n",
    "    'closed_pnl': ['sum', 'mean'],  # Total and average PnL\n",
    "    'event_type': 'count'           # Number of trades\n",
    "}).reset_index()\n",
    "\n",
    "# Rename columns for clarity\n",
    "sentiment_analysis.columns = ['Sentiment', 'Total_PnL', 'Average_PnL', 'Trade_Count']\n",
    "\n",
    "# Display the aggregated data\n",
    "print(\"Trader Behavior by Sentiment:\")\n",
    "print(sentiment_analysis)\n"
   ]
  },
  {
   "cell_type": "code",
   "execution_count": 70,
   "metadata": {},
   "outputs": [
    {
     "name": "stdout",
     "output_type": "stream",
     "text": [
      "Most Frequent Event Types by Sentiment:\n",
      "   classification  event_type  Count\n",
      "1   Extreme Greed  Close Long   2389\n",
      "12           Fear   Open Long  37828\n",
      "24          Greed        Sell   9833\n",
      "32        Neutral  Open Short   2389\n"
     ]
    }
   ],
   "source": [
    "# Find the most frequent event type for each sentiment\n",
    "event_frequency = df_analysis.groupby(['classification', 'event_type']).size().reset_index(name='Count')\n",
    "\n",
    "# Sort to find the most common event type per sentiment\n",
    "most_common_events = event_frequency.loc[event_frequency.groupby('classification')['Count'].idxmax()]\n",
    "\n",
    "# Display the most common events for each sentiment\n",
    "print(\"Most Frequent Event Types by Sentiment:\")\n",
    "print(most_common_events)\n"
   ]
  },
  {
   "cell_type": "markdown",
   "metadata": {},
   "source": [
    "#  Visualization: Average PnL by Sentiment"
   ]
  },
  {
   "cell_type": "code",
   "execution_count": 73,
   "metadata": {},
   "outputs": [
    {
     "name": "stderr",
     "output_type": "stream",
     "text": [
      "C:\\Users\\krishna\\AppData\\Local\\Temp\\ipykernel_3236\\2906806989.py:3: FutureWarning: \n",
      "\n",
      "Passing `palette` without assigning `hue` is deprecated and will be removed in v0.14.0. Assign the `x` variable to `hue` and set `legend=False` for the same effect.\n",
      "\n",
      "  sns.barplot(data=sentiment_analysis, x='Sentiment', y='Average_PnL', palette='viridis')\n"
     ]
    },
    {
     "data": {
      "image/png": "[encoded data removed]",
      "text/plain": [
       "<Figure size 800x500 with 1 Axes>"
      ]
     },
     "metadata": {},
     "output_type": "display_data"
    }
   ],
   "source": [
    "# Plot average PnL by sentiment\n",
    "plt.figure(figsize=(8, 5))\n",
    "sns.barplot(data=sentiment_analysis, x='Sentiment', y='Average_PnL', palette='viridis')\n",
    "plt.title(\"Average PnL by Sentiment\")\n",
    "plt.xlabel(\"Sentiment\")\n",
    "plt.ylabel(\"Average PnL\")\n",
    "plt.show()\n"
   ]
  },
  {
   "cell_type": "code",
   "execution_count": 83,
   "metadata": {},
   "outputs": [
    {
     "data": {
      "text/plain": [
       "<Axes: xlabel='classification', ylabel='count'>"
      ]
     },
     "execution_count": 83,
     "metadata": {},
     "output_type": "execute_result"
    },
    {
     "data": {
      "image/png": "[encoded data removed]",
      "text/plain": [
       "<Figure size 640x480 with 1 Axes>"
      ]
     },
     "metadata": {},
     "output_type": "display_data"
    }
   ],
   "source": [
    "z=merged_data['classification'].value_counts()\n",
    "sns.countplot(data=merged_data,x='classification',hue='side')"
   ]
  },
  {
   "cell_type": "markdown",
   "metadata": {},
   "source": [
    "#  Key Findings and Insights"
   ]
  },
  {
   "cell_type": "markdown",
   "metadata": {},
   "source": [
    "This analysis of Bitcoin trader data from Hyperliquid against market sentiment (Fear & Greed Index) has yielded several key findings and insights:\n",
    "\n",
    "Significant Impact of Market Sentiment: Trader performance (PnL, win rate) and behavior (trade sizing, directional bias) are demonstrably influenced by the prevailing Bitcoin market sentiment. The \"Extreme Greed\" Pitfall: * Trading during periods classified as 'Extreme Greed' (or when the numerical sentiment value > 80) was associated with negative average PnL and a significantly lower win rate (around 57.65%) compared to other sentiment states. * Despite this poor performance, traders exhibited a strong bearish bias during 'Extreme Greed', predominantly initiating short positions. This contrarian approach appears to have been largely unsuccessful. Profitable Sentiment Regimes: * 'Fear' (specifically corresponding to a sentiment value of 44 in this dataset) was the most frequent condition for PnL-realizing trades and was highly profitable, with a high win rate (approx. 90.09%) and the largest contribution to total PnL. Traders maintained a strong bullish bias. * 'Greed' (numerical sentiment values 61-80) also proved to be a very profitable regime, boasting the highest average PnL per trade and a high win rate (approx. 82.89%). Traders were bullish and tended to use consistently larger trade sizes. * 'Neutral' conditions also yielded positive PnL and a good win rate (approx. 84.27%) with a bullish bias, though with fewer trades."
   ]
  },
  {
   "cell_type": "markdown",
   "metadata": {},
   "source": [
    "Adaptive Trader Behavior:\n",
    "Traders adjusted their directional bias based on sentiment: strongly bullish during 'Fear', 'Neutral', and 'Greed', but shifting to predominantly bearish during 'Extreme Greed'. Trade sizing also appeared to vary, with larger mean sizes observed during 'Fear' and 'Greed', and somewhat smaller sizes during 'Extreme Greed' and 'Neutral'.\n",
    "High Overall Win Rate in Favorable Conditions: The overall win rate for PnL-realizing trades in conditions other than 'Extreme Greed' was very high (often >80%), suggesting that the prevailing strategies were effective when sentiment was not at euphoric extremes."
   ]
  },
  {
   "cell_type": "markdown",
   "metadata": {},
   "source": [
    "#  Actionable Trading Strategy Suggestions¶"
   ]
  },
  {
   "cell_type": "markdown",
   "metadata": {},
   "source": [
    "Based on the insights derived from this dataset, the following strategic considerations could help drive smarter trading decisions:\n",
    "\n",
    "Exercise Extreme Caution or Avoid Trading During 'Extreme Greed':\n",
    "\n",
    "Given the consistently negative PnL and low win rates observed, traders should significantly reduce exposure, tighten risk management, or even refrain from initiating new aggressive positions when the Fear & Greed Index indicates 'Extreme Greed' (e.g., values > 80).\n",
    "The observed tendency to short during 'Extreme Greed' was not profitable on average in this dataset. If attempting contrarian shorts, ensure robust confirmation signals and strict stop-losses.\n",
    "Capitalize on 'Fear', 'Neutral', and 'Greed' Regimes:\n",
    "\n",
    "'Fear' (especially value 44): The data supports continuing a predominantly bullish approach during these conditions, as it has shown high profitability and win rates.\n",
    "'Greed' (values 61-80): This appears to be a \"sweet spot\" with high average PnL per trade. A confident bullish stance with appropriate (potentially larger) position sizing, backed by solid risk management, seems warranted. 'Neutral': Maintaining a cautiously bullish outlook during 'Neutral' periods has also proven effective.\n",
    "Align Directional Bias with Favorable Sentiments: The data suggests that aligning with a bullish bias during 'Fear', 'Neutral', and 'Greed' was successful for this group of traders. Re-evaluate strategies that involve going against this trend in these specific sentiment zones unless there are other overriding factors.\n",
    "\n",
    "Review Risk Management for \"Extreme Greed\": While traders appeared to reduce average trade size during 'Extreme Greed', this was insufficient to prevent losses. Consider even stricter capital allocation limits or predefined \"no-trade\" zones for this sentiment level.\n",
    "\n",
    "Understand the Specific Sentiment Index Used: The finding that the textual 'Fear' classification corresponded to a specific numerical value (44) highlights the importance of understanding the nuances of any sentiment indicator being used, rather than relying solely on generic interpretations."
   ]
  },
  {
   "cell_type": "markdown",
   "metadata": {},
   "source": [
    "#  Conclusion"
   ]
  },
  {
   "cell_type": "markdown",
   "metadata": {},
   "source": [
    "This analysis successfully explored the relationship between Bitcoin market sentiment (as measured by a Fear & Greed Index) and the performance and behavior of traders on the Hyperliquid platform. Clear patterns emerged, demonstrating that market sentiment is a significant factor influencing trading outcomes.\n",
    "\n",
    "The most critical insight is the detrimental impact of 'Extreme Greed' on trader profitability, contrasting with the positive performance observed during 'Fear', 'Neutral', and 'Greed' states. Behavioral shifts, such as changes in directional bias and trade sizing according to sentiment, were also evident.\n",
    "\n",
    "The findings and strategic suggestions derived from this data can serve as a valuable input for traders looking to incorporate sentiment analysis into their decision-making processes to potentially enhance their trading strategies and risk management. Further research could extend this analysis by examining individual trader segments, incorporating other market variables like volatility, or exploring different asset classes."
   ]
  },
  {
   "cell_type": "code",
   "execution_count": null,
   "metadata": {},
   "outputs": [],
   "source": []
  }
 ],
 "metadata": {
  "colab": {
   "provenance": []
  },
  "kernelspec": {
   "display_name": "Python 3 (ipykernel)",
   "language": "python",
   "name": "python3"
  },
  "language_info": {
   "codemirror_mode": {
    "name": "ipython",
    "version": 3
   },
   "file_extension": ".py",
   "mimetype": "text/x-python",
   "name": "python",
   "nbconvert_exporter": "python",
   "pygments_lexer": "ipython3",
   "version": "3.11.9"
  }
 },
 "nbformat": 4,
 "nbformat_minor": 4
}
